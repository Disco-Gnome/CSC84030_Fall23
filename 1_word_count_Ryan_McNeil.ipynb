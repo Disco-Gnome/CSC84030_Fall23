{
  "nbformat": 4,
  "nbformat_minor": 0,
  "metadata": {
    "kernelspec": {
      "display_name": "Python 3",
      "language": "python",
      "name": "python3"
    },
    "language_info": {
      "codemirror_mode": {
        "name": "ipython",
        "version": 3
      },
      "file_extension": ".py",
      "mimetype": "text/x-python",
      "name": "python",
      "nbconvert_exporter": "python",
      "pygments_lexer": "ipython3",
      "version": "3.9.5"
    },
    "colab": {
      "provenance": [],
      "include_colab_link": true
    }
  },
  "cells": [
    {
      "cell_type": "markdown",
      "metadata": {
        "id": "view-in-github",
        "colab_type": "text"
      },
      "source": [
        "<a href=\"https://colab.research.google.com/github/Disco-Gnome/CSC84030_Fall23/blob/main/1_word_count_Ryan_McNeil.ipynb\" target=\"_parent\"><img src=\"https://colab.research.google.com/assets/colab-badge.svg\" alt=\"Open In Colab\"/></a>"
      ]
    },
    {
      "cell_type": "markdown",
      "metadata": {
        "id": "KaxZyzxwG5Gy"
      },
      "source": [
        "#![Spark Logo](http://spark-mooc.github.io/web-assets/images/ta_Spark-logo-small.png) + ![Python Logo](http://spark-mooc.github.io/web-assets/images/python-logo-master-v3-TM-flattened_small.png)\n",
        "# **Word Count Lab: Building a word count application**\n",
        "#### This lab will build on the techniques covered in the Spark tutorial to develop a simple word count application.  The volume of unstructured text in existence is growing dramatically, and Spark is an excellent tool for analyzing this type of data.  In this lab, we will write code that calculates the most common words in the [Complete Works of William Shakespeare](http://www.gutenberg.org/ebooks/100) retrieved from [Project Gutenberg](http://www.gutenberg.org/wiki/Main_Page).  This could also be scaled to find the most common words on the Internet.\n",
        "#### ** During this lab we will cover: **\n",
        "#### *Part 0:* Set up Spark and initialize Spark context\n",
        "#### *Part 1:* Creating a base RDD and pair RDDs\n",
        "#### *Part 2:* Counting with pair RDDs\n",
        "#### *Part 3:* Finding unique words and a mean value\n",
        "#### *Part 4:* Apply word count to a file\n",
        "#### Note that, for reference, you can look up the details of the relevant methods in [Spark's Python API](https://spark.apache.org/docs/latest/api/python/pyspark.html#pyspark.RDD)"
      ]
    },
    {
      "cell_type": "markdown",
      "metadata": {
        "id": "ZgDgUgdCSqMQ"
      },
      "source": [
        "### ** Part 0: Set up Spark and initilize Spark context **\n",
        "\n"
      ]
    },
    {
      "cell_type": "code",
      "metadata": {
        "id": "HP2QRh3E5qdV",
        "outputId": "6e6d16e3-170e-42a8-af94-9bbbbb2b65fe",
        "colab": {
          "base_uri": "https://localhost:8080/"
        }
      },
      "source": [
        "!pip install pyspark\n",
        "!pip install -U -q PyDrive\n",
        "!apt install openjdk-8-jdk-headless -qq\n",
        "import os\n",
        "os.environ[\"JAVA_HOME\"] = \"/usr/lib/jvm/java-8-openjdk-amd64\"\n",
        "\n",
        "import pyspark\n",
        "from pyspark import SparkContext, SparkConf\n",
        "\n",
        "# create the session\n",
        "conf = SparkConf().set(\"spark.ui.port\", \"4050\")\n",
        "\n",
        "# create the context\n",
        "sc = pyspark.SparkContext(conf=conf)"
      ],
      "execution_count": null,
      "outputs": [
        {
          "output_type": "stream",
          "name": "stdout",
          "text": [
            "Collecting pyspark\n",
            "  Downloading pyspark-3.4.1.tar.gz (310.8 MB)\n",
            "\u001b[2K     \u001b[90m━━━━━━━━━━━━━━━━━━━━━━━━━━━━━━━━━━━━━━━\u001b[0m \u001b[32m310.8/310.8 MB\u001b[0m \u001b[31m2.2 MB/s\u001b[0m eta \u001b[36m0:00:00\u001b[0m\n",
            "\u001b[?25h  Preparing metadata (setup.py) ... \u001b[?25l\u001b[?25hdone\n",
            "Requirement already satisfied: py4j==0.10.9.7 in /usr/local/lib/python3.10/dist-packages (from pyspark) (0.10.9.7)\n",
            "Building wheels for collected packages: pyspark\n",
            "  Building wheel for pyspark (setup.py) ... \u001b[?25l\u001b[?25hdone\n",
            "  Created wheel for pyspark: filename=pyspark-3.4.1-py2.py3-none-any.whl size=311285387 sha256=65141c0b06a54762c010373d40ccc185960f90a9f2c2b81f9373fe617ec3d3ad\n",
            "  Stored in directory: /root/.cache/pip/wheels/0d/77/a3/ff2f74cc9ab41f8f594dabf0579c2a7c6de920d584206e0834\n",
            "Successfully built pyspark\n",
            "Installing collected packages: pyspark\n",
            "Successfully installed pyspark-3.4.1\n",
            "The following additional packages will be installed:\n",
            "  libxtst6 openjdk-8-jre-headless\n",
            "Suggested packages:\n",
            "  openjdk-8-demo openjdk-8-source libnss-mdns fonts-dejavu-extra fonts-nanum\n",
            "  fonts-ipafont-gothic fonts-ipafont-mincho fonts-wqy-microhei\n",
            "  fonts-wqy-zenhei fonts-indic\n",
            "The following NEW packages will be installed:\n",
            "  libxtst6 openjdk-8-jdk-headless openjdk-8-jre-headless\n",
            "0 upgraded, 3 newly installed, 0 to remove and 16 not upgraded.\n",
            "Need to get 39.7 MB of archives.\n",
            "After this operation, 144 MB of additional disk space will be used.\n",
            "Selecting previously unselected package libxtst6:amd64.\n",
            "(Reading database ... 120901 files and directories currently installed.)\n",
            "Preparing to unpack .../libxtst6_2%3a1.2.3-1build4_amd64.deb ...\n",
            "Unpacking libxtst6:amd64 (2:1.2.3-1build4) ...\n",
            "Selecting previously unselected package openjdk-8-jre-headless:amd64.\n",
            "Preparing to unpack .../openjdk-8-jre-headless_8u382-ga-1~22.04.1_amd64.deb ...\n",
            "Unpacking openjdk-8-jre-headless:amd64 (8u382-ga-1~22.04.1) ...\n",
            "Selecting previously unselected package openjdk-8-jdk-headless:amd64.\n",
            "Preparing to unpack .../openjdk-8-jdk-headless_8u382-ga-1~22.04.1_amd64.deb ...\n",
            "Unpacking openjdk-8-jdk-headless:amd64 (8u382-ga-1~22.04.1) ...\n",
            "Setting up libxtst6:amd64 (2:1.2.3-1build4) ...\n",
            "Setting up openjdk-8-jre-headless:amd64 (8u382-ga-1~22.04.1) ...\n",
            "update-alternatives: using /usr/lib/jvm/java-8-openjdk-amd64/jre/bin/orbd to provide /usr/bin/orbd (orbd) in auto mode\n",
            "update-alternatives: using /usr/lib/jvm/java-8-openjdk-amd64/jre/bin/servertool to provide /usr/bin/servertool (servertool) in auto mode\n",
            "update-alternatives: using /usr/lib/jvm/java-8-openjdk-amd64/jre/bin/tnameserv to provide /usr/bin/tnameserv (tnameserv) in auto mode\n",
            "Setting up openjdk-8-jdk-headless:amd64 (8u382-ga-1~22.04.1) ...\n",
            "update-alternatives: using /usr/lib/jvm/java-8-openjdk-amd64/bin/clhsdb to provide /usr/bin/clhsdb (clhsdb) in auto mode\n",
            "update-alternatives: using /usr/lib/jvm/java-8-openjdk-amd64/bin/extcheck to provide /usr/bin/extcheck (extcheck) in auto mode\n",
            "update-alternatives: using /usr/lib/jvm/java-8-openjdk-amd64/bin/hsdb to provide /usr/bin/hsdb (hsdb) in auto mode\n",
            "update-alternatives: using /usr/lib/jvm/java-8-openjdk-amd64/bin/idlj to provide /usr/bin/idlj (idlj) in auto mode\n",
            "update-alternatives: using /usr/lib/jvm/java-8-openjdk-amd64/bin/javah to provide /usr/bin/javah (javah) in auto mode\n",
            "update-alternatives: using /usr/lib/jvm/java-8-openjdk-amd64/bin/jhat to provide /usr/bin/jhat (jhat) in auto mode\n",
            "update-alternatives: using /usr/lib/jvm/java-8-openjdk-amd64/bin/jsadebugd to provide /usr/bin/jsadebugd (jsadebugd) in auto mode\n",
            "update-alternatives: using /usr/lib/jvm/java-8-openjdk-amd64/bin/native2ascii to provide /usr/bin/native2ascii (native2ascii) in auto mode\n",
            "update-alternatives: using /usr/lib/jvm/java-8-openjdk-amd64/bin/schemagen to provide /usr/bin/schemagen (schemagen) in auto mode\n",
            "update-alternatives: using /usr/lib/jvm/java-8-openjdk-amd64/bin/wsgen to provide /usr/bin/wsgen (wsgen) in auto mode\n",
            "update-alternatives: using /usr/lib/jvm/java-8-openjdk-amd64/bin/wsimport to provide /usr/bin/wsimport (wsimport) in auto mode\n",
            "update-alternatives: using /usr/lib/jvm/java-8-openjdk-amd64/bin/xjc to provide /usr/bin/xjc (xjc) in auto mode\n",
            "Processing triggers for libc-bin (2.35-0ubuntu3.1) ...\n",
            "/sbin/ldconfig.real: /usr/local/lib/libtbbbind.so.3 is not a symbolic link\n",
            "\n",
            "/sbin/ldconfig.real: /usr/local/lib/libtbbmalloc.so.2 is not a symbolic link\n",
            "\n",
            "/sbin/ldconfig.real: /usr/local/lib/libtbb.so.12 is not a symbolic link\n",
            "\n",
            "/sbin/ldconfig.real: /usr/local/lib/libtbbbind_2_0.so.3 is not a symbolic link\n",
            "\n",
            "/sbin/ldconfig.real: /usr/local/lib/libtbbbind_2_5.so.3 is not a symbolic link\n",
            "\n",
            "/sbin/ldconfig.real: /usr/local/lib/libtbbmalloc_proxy.so.2 is not a symbolic link\n",
            "\n"
          ]
        }
      ]
    },
    {
      "cell_type": "markdown",
      "metadata": {
        "id": "QH2YbKFEG5G3"
      },
      "source": [
        "### ** Part 1: Creating a base RDD and pair RDDs **"
      ]
    },
    {
      "cell_type": "markdown",
      "metadata": {
        "id": "W4gmmbtfG5G4"
      },
      "source": [
        "#### In this part of the lab, we will explore creating a base RDD with `parallelize` and using pair RDDs to count words."
      ]
    },
    {
      "cell_type": "markdown",
      "metadata": {
        "id": "NbeQVWIlG5G6"
      },
      "source": [
        "#### ** (1a) Create a base RDD **\n",
        "#### We'll start by generating a base RDD by using a Python list and the `sc.parallelize` method.  Then we'll print out the type of the base RDD."
      ]
    },
    {
      "cell_type": "code",
      "metadata": {
        "id": "EeiZCKQWG5G7",
        "outputId": "e9b0fb5d-fcfe-4282-b7d3-7957235a5d03",
        "colab": {
          "base_uri": "https://localhost:8080/"
        }
      },
      "source": [
        "wordsList = ['cat', 'elephant', 'rat', 'rat', 'cat']\n",
        "wordsRDD = sc.parallelize(wordsList, 4)\n",
        "# Print out the type of wordsRDD\n",
        "print(type(wordsRDD))"
      ],
      "execution_count": null,
      "outputs": [
        {
          "output_type": "stream",
          "name": "stdout",
          "text": [
            "<class 'pyspark.rdd.RDD'>\n"
          ]
        }
      ]
    },
    {
      "cell_type": "markdown",
      "metadata": {
        "id": "2k2zxzG2G5G8"
      },
      "source": [
        "#### ** (1b) Pluralize and test **\n",
        "#### Let's use a `map()` transformation to add the letter 's' to each string in the base RDD we just created. We'll define a Python function that returns the word with an 's' at the end of the word.  Please replace `<FILL IN>` with your solution.  If you have trouble, the next cell has the solution.  After you have defined `makePlural` you can run the third cell which contains a test.  If you implementation is correct it will print `1 test passed`.\n",
        "#### This is the general form that exercises will take, except that no example solution will be provided.  Exercises will include an explanation of what is expected, followed by code cells where one cell will have one or more `<FILL IN>` sections.  The cell that needs to be modified will have `# TODO: Replace <FILL IN> with appropriate code` on its first line.  Once the `<FILL IN>` sections are updated and the code is run, the test cell can then be run to verify the correctness of your solution.  The last code cell before the next markdown section will contain the tests."
      ]
    },
    {
      "cell_type": "code",
      "metadata": {
        "id": "EB1bWiWuG5G-",
        "outputId": "07a96645-96de-422c-dada-8fe6233dcfe3",
        "colab": {
          "base_uri": "https://localhost:8080/"
        }
      },
      "source": [
        "# TODO: Replace <FILL IN> with appropriate code\n",
        "def makePlural(word):\n",
        "    \"\"\"Adds an 's' to `word`.\n",
        "\n",
        "    Note:\n",
        "        This is a simple function that only adds an 's'.  No attempt is made to follow proper\n",
        "        pluralization rules.\n",
        "\n",
        "    Args:\n",
        "        word (str): A string.\n",
        "\n",
        "    Returns:\n",
        "        str: A string with 's' added to it.\n",
        "    \"\"\"\n",
        "    return word + 's'\n",
        "\n",
        "print(makePlural('cat'))"
      ],
      "execution_count": null,
      "outputs": [
        {
          "output_type": "stream",
          "name": "stdout",
          "text": [
            "cats\n"
          ]
        }
      ]
    },
    {
      "cell_type": "code",
      "metadata": {
        "id": "MCNQO2FmG5HA",
        "outputId": "0c8183d1-f866-4faf-9fc5-72cb8cdfcfd2",
        "colab": {
          "base_uri": "https://localhost:8080/"
        }
      },
      "source": [
        "# One way of completing the function\n",
        "def makePlural(word):\n",
        "    return word + 's'\n",
        "\n",
        "print(makePlural('cat'))"
      ],
      "execution_count": null,
      "outputs": [
        {
          "output_type": "stream",
          "name": "stdout",
          "text": [
            "cats\n"
          ]
        }
      ]
    },
    {
      "cell_type": "markdown",
      "metadata": {
        "id": "kWJNWIj1G5HD"
      },
      "source": [
        "#### ** (1c) Apply `makePlural` to the base RDD **\n",
        "#### Now pass each item in the base RDD into a [map()](http://spark.apache.org/docs/latest/api/python/pyspark.html#pyspark.RDD.map) transformation that applies the `makePlural()` function to each element. And then call the [collect()](http://spark.apache.org/docs/latest/api/python/pyspark.html#pyspark.RDD.collect) action to see the transformed RDD."
      ]
    },
    {
      "cell_type": "code",
      "metadata": {
        "id": "xkRvQTVvG5HE",
        "outputId": "c3fe1d8a-35f9-477d-dc06-575c3d0782d2",
        "colab": {
          "base_uri": "https://localhost:8080/"
        }
      },
      "source": [
        "# TODO: Replace <FILL IN> with appropriate code\n",
        "pluralRDD = wordsRDD.map(makePlural)\n",
        "print(pluralRDD.collect())"
      ],
      "execution_count": null,
      "outputs": [
        {
          "output_type": "stream",
          "name": "stdout",
          "text": [
            "['cats', 'elephants', 'rats', 'rats', 'cats']\n"
          ]
        }
      ]
    },
    {
      "cell_type": "markdown",
      "metadata": {
        "id": "6iyzD_XkG5HG"
      },
      "source": [
        "#### ** (1d) Pass a `lambda` function to `map` **\n",
        "#### Let's create the same RDD using a `lambda` function."
      ]
    },
    {
      "cell_type": "code",
      "metadata": {
        "id": "BiotDpuEG5HH",
        "outputId": "afdaf79c-90a7-4dfe-9f14-4cfaaead90c3",
        "colab": {
          "base_uri": "https://localhost:8080/"
        }
      },
      "source": [
        "# TODO: Replace <FILL IN> with appropriate code\n",
        "pluralLambdaRDD = wordsRDD.map(lambda x: (x + 's'))\n",
        "print(pluralLambdaRDD.collect())"
      ],
      "execution_count": null,
      "outputs": [
        {
          "output_type": "stream",
          "name": "stdout",
          "text": [
            "['cats', 'elephants', 'rats', 'rats', 'cats']\n"
          ]
        }
      ]
    },
    {
      "cell_type": "markdown",
      "metadata": {
        "id": "EUWhjyUKG5HI"
      },
      "source": [
        "#### ** (1e) Length of each word **\n",
        "#### Now use `map()` and a `lambda` function to return the number of characters in each word.  We'll `collect` this result directly into a variable."
      ]
    },
    {
      "cell_type": "code",
      "metadata": {
        "id": "Ps708Q1CG5HJ",
        "outputId": "912b4ffe-e854-4ae0-a3b1-769c7083ccea",
        "colab": {
          "base_uri": "https://localhost:8080/"
        }
      },
      "source": [
        "# TODO: Replace <FILL IN> with appropriate code\n",
        "pluralLengths = (pluralRDD\n",
        "                 .map(lambda x: len(x))\n",
        "                 .collect())\n",
        "print(pluralLengths)"
      ],
      "execution_count": null,
      "outputs": [
        {
          "output_type": "stream",
          "name": "stdout",
          "text": [
            "[4, 9, 4, 4, 4]\n"
          ]
        }
      ]
    },
    {
      "cell_type": "markdown",
      "metadata": {
        "id": "-LtVNMIpG5HK"
      },
      "source": [
        "#### ** (1f) Pair RDDs **\n",
        "#### The next step in writing our word counting program is to create a new type of RDD, called a pair RDD. A pair RDD is an RDD where each element is a pair tuple `(k, v)` where `k` is the key and `v` is the value. In this example, we will create a pair consisting of `('<word>', 1)` for each word element in the RDD.\n",
        "#### We can create the pair RDD using the `map()` transformation with a `lambda()` function to create a new RDD."
      ]
    },
    {
      "cell_type": "code",
      "metadata": {
        "id": "qYQaW1h-G5HL",
        "outputId": "3dd7514d-bd97-4649-ed77-5e320db4238a",
        "colab": {
          "base_uri": "https://localhost:8080/"
        }
      },
      "source": [
        "# TODO: Replace <FILL IN> with appropriate code\n",
        "wordPairs = wordsRDD.map(lambda x: (x, 1))\n",
        "print(wordPairs.collect())"
      ],
      "execution_count": null,
      "outputs": [
        {
          "output_type": "stream",
          "name": "stdout",
          "text": [
            "[('cat', 1), ('elephant', 1), ('rat', 1), ('rat', 1), ('cat', 1)]\n"
          ]
        }
      ]
    },
    {
      "cell_type": "markdown",
      "metadata": {
        "id": "6pStuUG8G5HL"
      },
      "source": [
        "### ** Part 2: Counting with pair RDDs **"
      ]
    },
    {
      "cell_type": "markdown",
      "metadata": {
        "id": "yv1co7KfG5HM"
      },
      "source": [
        "#### Now, let's count the number of times a particular word appears in the RDD. There are multiple ways to perform the counting, but some are much less efficient than others.\n",
        "#### A naive approach would be to `collect()` all of the elements and count them in the driver program. While this approach could work for small datasets, we want an approach that will work for any size dataset including terabyte- or petabyte-sized datasets. In addition, performing all of the work in the driver program is slower than performing it in parallel in the workers. For these reasons, we will use data parallel operations."
      ]
    },
    {
      "cell_type": "markdown",
      "metadata": {
        "id": "rs3tUmPxG5HM"
      },
      "source": [
        "#### ** (2a) `groupByKey()` approach **\n",
        "#### An approach you might first consider (we'll see shortly that there are better ways) is based on using the [groupByKey()](http://spark.apache.org/docs/latest/api/python/pyspark.html#pyspark.RDD.groupByKey) transformation. As the name implies, the `groupByKey()` transformation groups all the elements of the RDD with the same key into a single list in one of the partitions. There are two problems with using `groupByKey()`:\n",
        "  + #### The operation requires a lot of data movement to move all the values into the appropriate partitions.\n",
        "  + #### The lists can be very large. Consider a word count of English Wikipedia: the lists for common words (e.g., the, a, etc.) would be huge and could exhaust the available memory in a worker.\n",
        "\n",
        "#### Use `groupByKey()` to generate a pair RDD of type `('word', iterator)`."
      ]
    },
    {
      "cell_type": "code",
      "metadata": {
        "id": "MgjRzwuBG5HM",
        "outputId": "99a7d83d-c0c6-47b3-d099-42e483be30d8",
        "colab": {
          "base_uri": "https://localhost:8080/"
        }
      },
      "source": [
        "# TODO: Replace <FILL IN> with appropriate code\n",
        "# Note that groupByKey requires no parameters\n",
        "wordsGrouped = wordPairs.groupByKey()\n",
        "for key, value in wordsGrouped.collect():\n",
        "    print('{0}: {1}'.format(key, list(value)))"
      ],
      "execution_count": null,
      "outputs": [
        {
          "output_type": "stream",
          "name": "stdout",
          "text": [
            "cat: [1, 1]\n",
            "elephant: [1]\n",
            "rat: [1, 1]\n"
          ]
        }
      ]
    },
    {
      "cell_type": "markdown",
      "metadata": {
        "id": "zd23if2iG5HN"
      },
      "source": [
        "#### ** (2b) Use `groupByKey()` to obtain the counts **\n",
        "#### Using the `groupByKey()` transformation creates an RDD containing 3 elements, each of which is a pair of a word and a Python iterator.\n",
        "#### Now sum the iterator using a `map()` transformation.  The result should be a pair RDD consisting of (word, count) pairs."
      ]
    },
    {
      "cell_type": "code",
      "metadata": {
        "id": "GPNPUOipG5HO",
        "outputId": "c1c387af-bda6-4b51-8b80-598a536692b0",
        "colab": {
          "base_uri": "https://localhost:8080/"
        }
      },
      "source": [
        "# TODO: Replace <FILL IN> with appropriate code\n",
        "wordCountsGrouped = wordsGrouped.map(lambda kv: (kv[0], sum(kv[1])))\n",
        "print(wordCountsGrouped.collect())"
      ],
      "execution_count": null,
      "outputs": [
        {
          "output_type": "stream",
          "name": "stdout",
          "text": [
            "[('cat', 2), ('elephant', 1), ('rat', 2)]\n"
          ]
        }
      ]
    },
    {
      "cell_type": "markdown",
      "metadata": {
        "id": "05ErfTulG5HO"
      },
      "source": [
        "#### ** (2c) Counting using `reduceByKey` **\n",
        "#### A better approach is to start from the pair RDD and then use the [reduceByKey()](http://spark.apache.org/docs/latest/api/python/pyspark.html#pyspark.RDD.reduceByKey) transformation to create a new pair RDD. The `reduceByKey()` transformation gathers together pairs that have the same key and applies the function provided to two values at a time, iteratively reducing all of the values to a single value. `reduceByKey()` operates by applying the function first within each partition on a per-key basis and then across the partitions, allowing it to scale efficiently to large datasets."
      ]
    },
    {
      "cell_type": "code",
      "metadata": {
        "id": "JIwkOwIxG5HP",
        "outputId": "fb210af1-d503-402a-93ad-9f845ea6ea2d",
        "colab": {
          "base_uri": "https://localhost:8080/"
        }
      },
      "source": [
        "# TODO: Replace <FILL IN> with appropriate code\n",
        "# Note that reduceByKey takes in a function that accepts two values and returns a single value\n",
        "from operator import add\n",
        "wordCounts = wordPairs.reduceByKey(add)\n",
        "print(wordCounts.collect())"
      ],
      "execution_count": null,
      "outputs": [
        {
          "output_type": "stream",
          "name": "stdout",
          "text": [
            "[('cat', 2), ('elephant', 1), ('rat', 2)]\n"
          ]
        }
      ]
    },
    {
      "cell_type": "markdown",
      "metadata": {
        "id": "LFzVN8FLG5HQ"
      },
      "source": [
        "#### ** (2d) All together **\n",
        "#### The expert version of the code performs the `map()` to pair RDD, `reduceByKey()` transformation, and `collect` in one statement."
      ]
    },
    {
      "cell_type": "code",
      "metadata": {
        "id": "g6DEzAZFG5HR",
        "outputId": "daa1aa1e-c913-49b7-c174-1e320c689b9a",
        "colab": {
          "base_uri": "https://localhost:8080/"
        }
      },
      "source": [
        "# TODO: Replace <FILL IN> with appropriate code\n",
        "wordCountsCollected = (wordsRDD\n",
        "                       .map(lambda x: (x, 1))\n",
        "                       .reduceByKey(add)\n",
        "                       .collect())\n",
        "print(wordCountsCollected)"
      ],
      "execution_count": null,
      "outputs": [
        {
          "output_type": "stream",
          "name": "stdout",
          "text": [
            "[('cat', 2), ('elephant', 1), ('rat', 2)]\n"
          ]
        }
      ]
    },
    {
      "cell_type": "markdown",
      "metadata": {
        "id": "9PB9O1PwG5HS"
      },
      "source": [
        "### ** Part 3: Finding unique words and a mean value **"
      ]
    },
    {
      "cell_type": "markdown",
      "metadata": {
        "id": "cHe8AgACG5HS"
      },
      "source": [
        "#### ** (3a) Unique words **\n",
        "#### Calculate the number of unique words in `wordsRDD`.  You can use other RDDs that you have already created to make this easier."
      ]
    },
    {
      "cell_type": "code",
      "metadata": {
        "id": "oj_0-PyoG5HT",
        "outputId": "f9ad6445-126c-431d-ff28-92eaf2414bfb",
        "colab": {
          "base_uri": "https://localhost:8080/"
        }
      },
      "source": [
        "# TODO: Replace <FILL IN> with appropriate code\n",
        "uniqueWords = wordsRDD.distinct().collect()\n",
        "print(uniqueWords)"
      ],
      "execution_count": null,
      "outputs": [
        {
          "output_type": "stream",
          "name": "stdout",
          "text": [
            "['cat', 'elephant', 'rat']\n"
          ]
        }
      ]
    },
    {
      "cell_type": "markdown",
      "metadata": {
        "id": "akutTXx2G5HU"
      },
      "source": [
        "#### ** (3b) Mean using `reduce` **\n",
        "#### Find the mean number of words per unique word in `wordCounts`.\n",
        "#### Use a `reduce()` action to sum the counts in `wordCounts` and then divide by the number of unique words.  First `map()` the pair RDD `wordCounts`, which consists of (key, value) pairs, to an RDD of values."
      ]
    },
    {
      "cell_type": "code",
      "metadata": {
        "id": "p8RPGRs6G5HU",
        "outputId": "60a1d8e2-30dd-48bd-a968-72a42e375c11",
        "colab": {
          "base_uri": "https://localhost:8080/"
        }
      },
      "source": [
        "# TODO: Replace <FILL IN> with appropriate code\n",
        "from operator import add\n",
        "totalCount = (wordCounts\n",
        "              .map(lambda kv: kv[1])\n",
        "              .reduce(add))\n",
        "average = totalCount / float(len(uniqueWords))\n",
        "print(totalCount)\n",
        "print(round(average, 2))"
      ],
      "execution_count": null,
      "outputs": [
        {
          "output_type": "stream",
          "name": "stdout",
          "text": [
            "5\n",
            "1.67\n"
          ]
        }
      ]
    },
    {
      "cell_type": "markdown",
      "metadata": {
        "id": "J8_dr7zHG5HV"
      },
      "source": [
        "### ** Part 4: Apply word count to a file **"
      ]
    },
    {
      "cell_type": "markdown",
      "metadata": {
        "id": "LBvWKpO6G5HW"
      },
      "source": [
        "#### In this section we will finish developing our word count application.  We'll have to build the `wordCount` function, deal with real world problems like capitalization and punctuation, load in our data source, and compute the word count on the new data."
      ]
    },
    {
      "cell_type": "markdown",
      "metadata": {
        "id": "MGKZo3VTG5HW"
      },
      "source": [
        "#### ** (4a) `wordCount` function **\n",
        "#### First, define a function for word counting.  You should reuse the techniques that have been covered in earlier parts of this lab.  This function should take in an RDD that is a list of words like `wordsRDD` and return a pair RDD that has all of the words and their associated counts."
      ]
    },
    {
      "cell_type": "code",
      "metadata": {
        "id": "mMJcsjB4G5HX",
        "outputId": "e8a7cc48-6fb2-415b-a80e-28a9d5346c4d",
        "colab": {
          "base_uri": "https://localhost:8080/"
        }
      },
      "source": [
        "# TODO: Replace <FILL IN> with appropriate code\n",
        "def wordCount(wordListRDD):\n",
        "    \"\"\"Creates a pair RDD with word counts from an RDD of words.\n",
        "\n",
        "    Args:\n",
        "        wordListRDD (RDD of str): An RDD consisting of words.\n",
        "\n",
        "    Returns:\n",
        "        RDD of (str, int): An RDD consisting of (word, count) tuples.\n",
        "    \"\"\"\n",
        "    wordPairs = wordListRDD.map(lambda x: (x, 1))\n",
        "    wordCountRDD = wordPairs.reduceByKey(add)\n",
        "    return wordCountRDD\n",
        "\n",
        "print(wordCount(wordsRDD).collect())"
      ],
      "execution_count": null,
      "outputs": [
        {
          "output_type": "stream",
          "name": "stdout",
          "text": [
            "[('cat', 2), ('elephant', 1), ('rat', 2)]\n"
          ]
        }
      ]
    },
    {
      "cell_type": "markdown",
      "metadata": {
        "id": "dCaxp4_-G5HY"
      },
      "source": [
        "#### ** (4b) Capitalization and punctuation **\n",
        "#### Real world files are more complicated than the data we have been using in this lab. Some of the issues we have to address are:\n",
        "  + #### Words should be counted independent of their capitialization (e.g., Spark and spark should be counted as the same word).\n",
        "  + #### All punctuation should be removed.\n",
        "  + #### Any leading or trailing spaces on a line should be removed.\n",
        "\n",
        "#### Define the function `removePunctuation` that converts all text to lower case, removes any punctuation, and removes leading and trailing spaces.  Use the Python [re](https://docs.python.org/2/library/re.html) module to remove any text that is not a letter, number, or space. Reading `help(re.sub)` might be useful."
      ]
    },
    {
      "cell_type": "code",
      "metadata": {
        "id": "QtP4e-iCG5HZ",
        "colab": {
          "base_uri": "https://localhost:8080/"
        },
        "outputId": "a4be2fbb-1755-49a4-fa8e-a1dd0d638ab3"
      },
      "source": [
        "# TODO: Replace <FILL IN> with appropriate code\n",
        "import re\n",
        "def removePunctuation(text):\n",
        "    \"\"\"Removes punctuation, changes to lower case, and strips leading and trailing spaces.\n",
        "\n",
        "    Note:\n",
        "        Only spaces, letters, and numbers should be retained.  Other characters should should be\n",
        "        eliminated (e.g. it's becomes its).  Leading and trailing spaces should be removed after\n",
        "        punctuation is removed.\n",
        "\n",
        "    Args:\n",
        "        text (str): A string.\n",
        "\n",
        "    Returns:\n",
        "        str: The cleaned up string.\n",
        "    \"\"\"\n",
        "    #convert to lower case\n",
        "    newText = re.sub('[A-Z]', lambda m: m.group(0).lower(), text)\n",
        "\n",
        "    #remove punctuation\n",
        "    newText = re.sub(\"_\", \" \", newText)\n",
        "    newText = re.sub(\"[^a-z0-9\\s]\", \"\", newText)\n",
        "\n",
        "    #remove leading and trailing spaces\n",
        "    newText = re.sub(\"\\A \", \"\", newText)\n",
        "    newText = re.sub(\" \\Z\", \"\", newText)\n",
        "\n",
        "    return newText\n",
        "\n",
        "print(removePunctuation('Hi, you!'))\n",
        "print(removePunctuation(' No under_score! '))"
      ],
      "execution_count": null,
      "outputs": [
        {
          "output_type": "stream",
          "name": "stdout",
          "text": [
            "hi you\n",
            "no under score\n"
          ]
        }
      ]
    },
    {
      "cell_type": "markdown",
      "metadata": {
        "id": "x2Rwf5ioG5Ha"
      },
      "source": [
        "#### ** (4c) Load a text file **\n",
        "#### For the next part of this lab, we will use the [Complete Works of William Shakespeare](https://www.gutenberg.org/ebooks/100) from [Project Gutenberg](https://www.gutenberg.org/). To convert a text file into an RDD, we use the `SparkContext.textFile()` method. We also apply the recently defined `removePunctuation()` function using a `map()` transformation to strip out the punctuation and change all text to lowercase.  Since the file is large we use `take(15)`, so that we only print 15 lines."
      ]
    },
    {
      "cell_type": "code",
      "metadata": {
        "id": "QiJMt2f7G5Ha",
        "colab": {
          "base_uri": "https://localhost:8080/"
        },
        "outputId": "fb56fdd8-6bdb-4b95-e5ed-aabc79846040"
      },
      "source": [
        "# Just run this code\n",
        "!pip install wget\n",
        "import wget\n",
        "url = 'https://www.gutenberg.org/files/100/100-0.txt'\n",
        "wget.download(url, 'shakespeare.txt')\n",
        "\n",
        "shakespeareRDD = (sc\n",
        "                  .textFile(\"shakespeare.txt\", 8)\n",
        "                  .map(removePunctuation))\n",
        "print('\\n'.join(shakespeareRDD\n",
        "                .zipWithIndex()  # to (line, lineNum)\n",
        "                .map(lambda l_num: '{0}: {1}'.format(l_num[1], l_num[0]))  # to 'lineNum: line'\n",
        "                .take(15)))"
      ],
      "execution_count": null,
      "outputs": [
        {
          "output_type": "stream",
          "name": "stdout",
          "text": [
            "Collecting wget\n",
            "  Downloading wget-3.2.zip (10 kB)\n",
            "  Preparing metadata (setup.py) ... \u001b[?25l\u001b[?25hdone\n",
            "Building wheels for collected packages: wget\n",
            "  Building wheel for wget (setup.py) ... \u001b[?25l\u001b[?25hdone\n",
            "  Created wheel for wget: filename=wget-3.2-py3-none-any.whl size=9655 sha256=94bd5cd15f03843510514f39285862f87be1a24db72a7830f5d6f6af00c509dd\n",
            "  Stored in directory: /root/.cache/pip/wheels/8b/f1/7f/5c94f0a7a505ca1c81cd1d9208ae2064675d97582078e6c769\n",
            "Successfully built wget\n",
            "Installing collected packages: wget\n",
            "Successfully installed wget-3.2\n",
            "0: the project gutenberg ebook of the complete works of william shakespeare by william shakespeare\n",
            "1: \n",
            "2: this ebook is for the use of anyone anywhere in the united states and\n",
            "3: most other parts of the world at no cost and with almost no restrictions\n",
            "4: whatsoever you may copy it give it away or reuse it under the terms\n",
            "5: of the project gutenberg license included with this ebook or online at\n",
            "6: wwwgutenbergorg if you are not located in the united states you\n",
            "7: will have to check the laws of the country where you are located before\n",
            "8: using this ebook\n",
            "9: \n",
            "10: title the complete works of william shakespeare\n",
            "11: \n",
            "12: author william shakespeare\n",
            "13: \n",
            "14: release date january 1994 ebook 100\n"
          ]
        }
      ]
    },
    {
      "cell_type": "markdown",
      "metadata": {
        "id": "7QGTRfZBG5Hb"
      },
      "source": [
        "#### ** (4d) Words from lines **\n",
        "#### Before we can use the `wordcount()` function, we have to address two issues with the format of the RDD:\n",
        "  + #### The first issue is that  that we need to split each line by its spaces.\n",
        "  + #### The second issue is we need to filter out empty lines.\n",
        "\n",
        "#### Apply a transformation that will split each element of the RDD by its spaces. For each element of the RDD, you should apply Python's string [split()](https://docs.python.org/3/library/stdtypes.html#str.split) function. You might think that a `map()` transformation is the way to do this, but think about what the result of the `split()` function will be."
      ]
    },
    {
      "cell_type": "code",
      "metadata": {
        "id": "6FSPRpzLG5Hb",
        "colab": {
          "base_uri": "https://localhost:8080/"
        },
        "outputId": "01b1c521-9868-4d4b-a4c9-27864b9853d9"
      },
      "source": [
        "# TODO: Replace <FILL IN> with appropriate code\n",
        "shakespeareWordsRDD = shakespeareRDD.flatMap(lambda line: line.split(\" \"))\n",
        "shakespeareWordCount = shakespeareWordsRDD.count()\n",
        "print(shakespeareWordsRDD.top(5))\n",
        "print(shakespeareWordCount)"
      ],
      "execution_count": null,
      "outputs": [
        {
          "output_type": "stream",
          "name": "stdout",
          "text": [
            "['zwaggered', 'zounds', 'zounds', 'zounds', 'zounds']\n",
            "1038526\n"
          ]
        }
      ]
    },
    {
      "cell_type": "markdown",
      "metadata": {
        "id": "11CUc4fJG5Hb"
      },
      "source": [
        "#### ** (4e) Remove empty elements **\n",
        "#### The next step is to filter out the empty elements.  Remove all entries where the word is `''`."
      ]
    },
    {
      "cell_type": "code",
      "metadata": {
        "id": "0I14O3g6G5Hc",
        "colab": {
          "base_uri": "https://localhost:8080/"
        },
        "outputId": "4cf234bc-2717-4f95-d9c7-cc7ad2f0cb59"
      },
      "source": [
        "# TODO: Replace <FILL IN> with appropriate code\n",
        "shakeWordsRDD = shakespeareWordsRDD.filter(lambda x: x!= \"\")\n",
        "shakeWordCount = shakeWordsRDD.count()\n",
        "print(shakeWordCount)"
      ],
      "execution_count": null,
      "outputs": [
        {
          "output_type": "stream",
          "name": "stdout",
          "text": [
            "965939\n"
          ]
        }
      ]
    },
    {
      "cell_type": "markdown",
      "metadata": {
        "id": "WcK2nhhkG5Hc"
      },
      "source": [
        "#### ** (4f) Count the words **\n",
        "#### We now have an RDD that is only words.  Next, let's apply the `wordCount()` function to produce a list of word counts. We can view the top 15 words by using the `takeOrdered()` action; however, since the elements of the RDD are pairs, we need a custom sort function that sorts using the value part of the pair.\n",
        "#### You'll notice that many of the words are common English words. These are called stopwords. In a later lab, we will see how to eliminate them from the results.\n",
        "#### Use the `wordCount()` function and `takeOrdered()` to obtain the fifteen most common words and their counts."
      ]
    },
    {
      "cell_type": "code",
      "metadata": {
        "id": "3Di9J6zaG5Hd",
        "colab": {
          "base_uri": "https://localhost:8080/"
        },
        "outputId": "671d52bc-e0ac-45fa-9ed4-55117219180c"
      },
      "source": [
        "# TODO: Replace <FILL IN> with appropriate code\n",
        "top15WordsAndCounts = wordCount(shakeWordsRDD).takeOrdered(15, lambda kv: -kv[1])\n",
        "print('\\n'.join(map(lambda word_count: '{0}: {1}'.format(word_count[0], word_count[1]), top15WordsAndCounts)))"
      ],
      "execution_count": null,
      "outputs": [
        {
          "output_type": "stream",
          "name": "stdout",
          "text": [
            "the: 30507\n",
            "and: 28472\n",
            "i: 22129\n",
            "to: 21019\n",
            "of: 18836\n",
            "a: 16317\n",
            "you: 14438\n",
            "my: 13191\n",
            "in: 12424\n",
            "that: 11810\n",
            "is: 9746\n",
            "not: 9074\n",
            "with: 8553\n",
            "me: 8255\n",
            "it: 8202\n"
          ]
        }
      ]
    },
    {
      "cell_type": "markdown",
      "metadata": {
        "id": "Q5j7crxVMNJG"
      },
      "source": [
        "#### **Submission Intruction:**\n",
        "\n",
        "#### Click File -> Download -> Download .ipynb, and upload the downloaded file to Blackboard."
      ]
    }
  ]
}