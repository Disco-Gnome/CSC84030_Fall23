{
  "nbformat": 4,
  "nbformat_minor": 0,
  "metadata": {
    "colab": {
      "provenance": [],
      "include_colab_link": true
    },
    "kernelspec": {
      "name": "python3",
      "display_name": "Python 3"
    }
  },
  "cells": [
    {
      "cell_type": "markdown",
      "metadata": {
        "id": "view-in-github",
        "colab_type": "text"
      },
      "source": [
        "<a href=\"https://colab.research.google.com/github/Disco-Gnome/CSC84030_Fall23/blob/main/4_clustering_%26_dimensionality_reduction_RGM.ipynb\" target=\"_parent\"><img src=\"https://colab.research.google.com/assets/colab-badge.svg\" alt=\"Open In Colab\"/></a>"
      ]
    },
    {
      "cell_type": "markdown",
      "metadata": {
        "id": "p0-YhEpP_Ds-"
      },
      "source": [
        "### Setup"
      ]
    },
    {
      "cell_type": "markdown",
      "metadata": {
        "id": "Zsj5WYpR9QId"
      },
      "source": [
        "Let's setup Spark on your Colab environment.  Run the cell below!"
      ]
    },
    {
      "cell_type": "code",
      "metadata": {
        "id": "k-qHai2252mI",
        "colab": {
          "base_uri": "https://localhost:8080/"
        },
        "outputId": "00b2d030-e649-4c98-a56f-9b0eab9bdf75"
      },
      "source": [
        "!pip install pyspark\n",
        "!pip install -U -q PyDrive\n",
        "!apt install openjdk-8-jdk-headless -qq\n",
        "import os\n",
        "os.environ[\"JAVA_HOME\"] = \"/usr/lib/jvm/java-8-openjdk-amd64\""
      ],
      "execution_count": 4,
      "outputs": [
        {
          "output_type": "stream",
          "name": "stdout",
          "text": [
            "Collecting pyspark\n",
            "  Downloading pyspark-3.5.0.tar.gz (316.9 MB)\n",
            "\u001b[2K     \u001b[90m━━━━━━━━━━━━━━━━━━━━━━━━━━━━━━━━━━━━━━━\u001b[0m \u001b[32m316.9/316.9 MB\u001b[0m \u001b[31m4.6 MB/s\u001b[0m eta \u001b[36m0:00:00\u001b[0m\n",
            "\u001b[?25h  Preparing metadata (setup.py) ... \u001b[?25l\u001b[?25hdone\n",
            "Requirement already satisfied: py4j==0.10.9.7 in /usr/local/lib/python3.10/dist-packages (from pyspark) (0.10.9.7)\n",
            "Building wheels for collected packages: pyspark\n",
            "  Building wheel for pyspark (setup.py) ... \u001b[?25l\u001b[?25hdone\n",
            "  Created wheel for pyspark: filename=pyspark-3.5.0-py2.py3-none-any.whl size=317425344 sha256=6bc4005e99e05816e8df003d1f70d2e1c67efbed8439108dc4c5432c9a5c4263\n",
            "  Stored in directory: /root/.cache/pip/wheels/41/4e/10/c2cf2467f71c678cfc8a6b9ac9241e5e44a01940da8fbb17fc\n",
            "Successfully built pyspark\n",
            "Installing collected packages: pyspark\n",
            "Successfully installed pyspark-3.5.0\n",
            "The following additional packages will be installed:\n",
            "  libxtst6 openjdk-8-jre-headless\n",
            "Suggested packages:\n",
            "  openjdk-8-demo openjdk-8-source libnss-mdns fonts-dejavu-extra fonts-nanum\n",
            "  fonts-ipafont-gothic fonts-ipafont-mincho fonts-wqy-microhei\n",
            "  fonts-wqy-zenhei fonts-indic\n",
            "The following NEW packages will be installed:\n",
            "  libxtst6 openjdk-8-jdk-headless openjdk-8-jre-headless\n",
            "0 upgraded, 3 newly installed, 0 to remove and 18 not upgraded.\n",
            "Need to get 39.7 MB of archives.\n",
            "After this operation, 144 MB of additional disk space will be used.\n",
            "Selecting previously unselected package libxtst6:amd64.\n",
            "(Reading database ... 120875 files and directories currently installed.)\n",
            "Preparing to unpack .../libxtst6_2%3a1.2.3-1build4_amd64.deb ...\n",
            "Unpacking libxtst6:amd64 (2:1.2.3-1build4) ...\n",
            "Selecting previously unselected package openjdk-8-jre-headless:amd64.\n",
            "Preparing to unpack .../openjdk-8-jre-headless_8u382-ga-1~22.04.1_amd64.deb ...\n",
            "Unpacking openjdk-8-jre-headless:amd64 (8u382-ga-1~22.04.1) ...\n",
            "Selecting previously unselected package openjdk-8-jdk-headless:amd64.\n",
            "Preparing to unpack .../openjdk-8-jdk-headless_8u382-ga-1~22.04.1_amd64.deb ...\n",
            "Unpacking openjdk-8-jdk-headless:amd64 (8u382-ga-1~22.04.1) ...\n",
            "Setting up libxtst6:amd64 (2:1.2.3-1build4) ...\n",
            "Setting up openjdk-8-jre-headless:amd64 (8u382-ga-1~22.04.1) ...\n",
            "update-alternatives: using /usr/lib/jvm/java-8-openjdk-amd64/jre/bin/orbd to provide /usr/bin/orbd (orbd) in auto mode\n",
            "update-alternatives: using /usr/lib/jvm/java-8-openjdk-amd64/jre/bin/servertool to provide /usr/bin/servertool (servertool) in auto mode\n",
            "update-alternatives: using /usr/lib/jvm/java-8-openjdk-amd64/jre/bin/tnameserv to provide /usr/bin/tnameserv (tnameserv) in auto mode\n",
            "Setting up openjdk-8-jdk-headless:amd64 (8u382-ga-1~22.04.1) ...\n",
            "update-alternatives: using /usr/lib/jvm/java-8-openjdk-amd64/bin/clhsdb to provide /usr/bin/clhsdb (clhsdb) in auto mode\n",
            "update-alternatives: using /usr/lib/jvm/java-8-openjdk-amd64/bin/extcheck to provide /usr/bin/extcheck (extcheck) in auto mode\n",
            "update-alternatives: using /usr/lib/jvm/java-8-openjdk-amd64/bin/hsdb to provide /usr/bin/hsdb (hsdb) in auto mode\n",
            "update-alternatives: using /usr/lib/jvm/java-8-openjdk-amd64/bin/idlj to provide /usr/bin/idlj (idlj) in auto mode\n",
            "update-alternatives: using /usr/lib/jvm/java-8-openjdk-amd64/bin/javah to provide /usr/bin/javah (javah) in auto mode\n",
            "update-alternatives: using /usr/lib/jvm/java-8-openjdk-amd64/bin/jhat to provide /usr/bin/jhat (jhat) in auto mode\n",
            "update-alternatives: using /usr/lib/jvm/java-8-openjdk-amd64/bin/jsadebugd to provide /usr/bin/jsadebugd (jsadebugd) in auto mode\n",
            "update-alternatives: using /usr/lib/jvm/java-8-openjdk-amd64/bin/native2ascii to provide /usr/bin/native2ascii (native2ascii) in auto mode\n",
            "update-alternatives: using /usr/lib/jvm/java-8-openjdk-amd64/bin/schemagen to provide /usr/bin/schemagen (schemagen) in auto mode\n",
            "update-alternatives: using /usr/lib/jvm/java-8-openjdk-amd64/bin/wsgen to provide /usr/bin/wsgen (wsgen) in auto mode\n",
            "update-alternatives: using /usr/lib/jvm/java-8-openjdk-amd64/bin/wsimport to provide /usr/bin/wsimport (wsimport) in auto mode\n",
            "update-alternatives: using /usr/lib/jvm/java-8-openjdk-amd64/bin/xjc to provide /usr/bin/xjc (xjc) in auto mode\n",
            "Processing triggers for libc-bin (2.35-0ubuntu3.1) ...\n",
            "/sbin/ldconfig.real: /usr/local/lib/libtbb.so.12 is not a symbolic link\n",
            "\n",
            "/sbin/ldconfig.real: /usr/local/lib/libtbbbind_2_5.so.3 is not a symbolic link\n",
            "\n",
            "/sbin/ldconfig.real: /usr/local/lib/libtbbbind_2_0.so.3 is not a symbolic link\n",
            "\n",
            "/sbin/ldconfig.real: /usr/local/lib/libtbbmalloc.so.2 is not a symbolic link\n",
            "\n",
            "/sbin/ldconfig.real: /usr/local/lib/libtbbbind.so.3 is not a symbolic link\n",
            "\n",
            "/sbin/ldconfig.real: /usr/local/lib/libtbbmalloc_proxy.so.2 is not a symbolic link\n",
            "\n"
          ]
        }
      ]
    },
    {
      "cell_type": "markdown",
      "metadata": {
        "id": "qwtlO4_m_LbQ"
      },
      "source": [
        "Now we import some of the libraries usually needed by our workload."
      ]
    },
    {
      "cell_type": "code",
      "metadata": {
        "id": "twk-K-jilWK7"
      },
      "source": [
        "import pandas as pd\n",
        "import numpy as np\n",
        "import matplotlib.pyplot as plt\n",
        "%matplotlib inline\n",
        "\n",
        "import pyspark\n",
        "from pyspark.sql import *\n",
        "from pyspark.sql.types import *\n",
        "from pyspark.sql.functions import *\n",
        "from pyspark import SparkContext, SparkConf"
      ],
      "execution_count": 5,
      "outputs": []
    },
    {
      "cell_type": "markdown",
      "metadata": {
        "id": "BtrJlMBt1Ela"
      },
      "source": [
        "Let's initialize the Spark context."
      ]
    },
    {
      "cell_type": "code",
      "metadata": {
        "id": "Vm3sAVeK1EDZ"
      },
      "source": [
        "# create the session\n",
        "conf = SparkConf().set(\"spark.ui.port\", \"4050\")\n",
        "\n",
        "# create the context\n",
        "sc = pyspark.SparkContext(conf=conf)\n",
        "spark = SparkSession.builder.getOrCreate()"
      ],
      "execution_count": 6,
      "outputs": []
    },
    {
      "cell_type": "markdown",
      "metadata": {
        "id": "kAYRX2PMm0L6"
      },
      "source": [
        "### Data Preprocessing"
      ]
    },
    {
      "cell_type": "markdown",
      "metadata": {
        "id": "7hXdMR6wnEIM"
      },
      "source": [
        "In this Colab, we will load a famous machine learning dataset, the [Breast Cancer Wisconsin dataset](https://scikit-learn.org/stable/modules/generated/sklearn.datasets.load_breast_cancer.html), using the ```scikit-learn``` datasets loader."
      ]
    },
    {
      "cell_type": "code",
      "metadata": {
        "id": "5K93ABEy9Zlo"
      },
      "source": [
        "from sklearn.datasets import load_breast_cancer\n",
        "breast_cancer = load_breast_cancer()"
      ],
      "execution_count": 7,
      "outputs": []
    },
    {
      "cell_type": "markdown",
      "metadata": {
        "id": "wpsaYOqRxar2"
      },
      "source": [
        "For convenience, given that the dataset is small, we first construct a Pandas dataframe, tune the schema, and then convert it into a Spark dataframe."
      ]
    },
    {
      "cell_type": "code",
      "metadata": {
        "id": "Oitav_xhQD9w",
        "colab": {
          "base_uri": "https://localhost:8080/"
        },
        "outputId": "0a19ab49-0975-45ce-c28b-7357343fb777",
        "cellView": "code"
      },
      "source": [
        "pd_df = pd.DataFrame(breast_cancer.data, columns=breast_cancer.feature_names)\n",
        "df = spark.createDataFrame(pd_df)\n",
        "\n",
        "def set_df_columns_nullable(spark, df, column_list, nullable=False):\n",
        "    for struct_field in df.schema:\n",
        "        if struct_field.name in column_list:\n",
        "            struct_field.nullable = nullable\n",
        "    df_mod = spark.createDataFrame(df.rdd, df.schema)\n",
        "    return df_mod\n",
        "\n",
        "df = set_df_columns_nullable(spark, df, df.columns)\n",
        "df = df.withColumn('features', array(df.columns))\n",
        "vectors = df.rdd.map(lambda row: Vectors.dense(row.features))\n",
        "\n",
        "df.printSchema()"
      ],
      "execution_count": 8,
      "outputs": [
        {
          "output_type": "stream",
          "name": "stdout",
          "text": [
            "root\n",
            " |-- mean radius: double (nullable = false)\n",
            " |-- mean texture: double (nullable = false)\n",
            " |-- mean perimeter: double (nullable = false)\n",
            " |-- mean area: double (nullable = false)\n",
            " |-- mean smoothness: double (nullable = false)\n",
            " |-- mean compactness: double (nullable = false)\n",
            " |-- mean concavity: double (nullable = false)\n",
            " |-- mean concave points: double (nullable = false)\n",
            " |-- mean symmetry: double (nullable = false)\n",
            " |-- mean fractal dimension: double (nullable = false)\n",
            " |-- radius error: double (nullable = false)\n",
            " |-- texture error: double (nullable = false)\n",
            " |-- perimeter error: double (nullable = false)\n",
            " |-- area error: double (nullable = false)\n",
            " |-- smoothness error: double (nullable = false)\n",
            " |-- compactness error: double (nullable = false)\n",
            " |-- concavity error: double (nullable = false)\n",
            " |-- concave points error: double (nullable = false)\n",
            " |-- symmetry error: double (nullable = false)\n",
            " |-- fractal dimension error: double (nullable = false)\n",
            " |-- worst radius: double (nullable = false)\n",
            " |-- worst texture: double (nullable = false)\n",
            " |-- worst perimeter: double (nullable = false)\n",
            " |-- worst area: double (nullable = false)\n",
            " |-- worst smoothness: double (nullable = false)\n",
            " |-- worst compactness: double (nullable = false)\n",
            " |-- worst concavity: double (nullable = false)\n",
            " |-- worst concave points: double (nullable = false)\n",
            " |-- worst symmetry: double (nullable = false)\n",
            " |-- worst fractal dimension: double (nullable = false)\n",
            " |-- features: array (nullable = false)\n",
            " |    |-- element: double (containsNull = false)\n",
            "\n"
          ]
        }
      ]
    },
    {
      "cell_type": "markdown",
      "metadata": {
        "id": "TtR1xRvonxiO"
      },
      "source": [
        "With the next cell, we build the two data structures that we will be using throughout this Colab:\n",
        "\n",
        "\n",
        "*   ```features```, a dataframe of Dense vectors, containing all the original features in the dataset;\n",
        "*   ```labels```, a series of binary labels indicating if the corresponding set of features belongs to a subject with breast cancer, or not.\n",
        "\n"
      ]
    },
    {
      "cell_type": "code",
      "metadata": {
        "id": "GP23Xkgwi0SD"
      },
      "source": [
        "from pyspark.ml.linalg import Vectors\n",
        "features = spark.createDataFrame(vectors.map(Row), [\"features\"])\n",
        "labels = pd.Series(breast_cancer.target)"
      ],
      "execution_count": 9,
      "outputs": []
    },
    {
      "cell_type": "code",
      "source": [
        "# For debugging!\n",
        "# features is a dataframe of just the features column, where each value is a dense vector of ...\n",
        "# TODO: why is this not a list of strings?\n",
        "print('features meta data: ', features)\n",
        "print('features: ', features.show())"
      ],
      "metadata": {
        "colab": {
          "base_uri": "https://localhost:8080/"
        },
        "id": "OozZ-vSAZPD-",
        "outputId": "6bab4628-b372-4c1b-fd16-8e2e1cf2888b"
      },
      "execution_count": 10,
      "outputs": [
        {
          "output_type": "stream",
          "name": "stdout",
          "text": [
            "features meta data:  DataFrame[features: vector]\n",
            "+--------------------+\n",
            "|            features|\n",
            "+--------------------+\n",
            "|[17.99,10.38,122....|\n",
            "|[20.57,17.77,132....|\n",
            "|[19.69,21.25,130....|\n",
            "|[11.42,20.38,77.5...|\n",
            "|[20.29,14.34,135....|\n",
            "|[12.45,15.7,82.57...|\n",
            "|[18.25,19.98,119....|\n",
            "|[13.71,20.83,90.2...|\n",
            "|[13.0,21.82,87.5,...|\n",
            "|[12.46,24.04,83.9...|\n",
            "|[16.02,23.24,102....|\n",
            "|[15.78,17.89,103....|\n",
            "|[19.17,24.8,132.4...|\n",
            "|[15.85,23.95,103....|\n",
            "|[13.73,22.61,93.6...|\n",
            "|[14.54,27.54,96.7...|\n",
            "|[14.68,20.13,94.7...|\n",
            "|[16.13,20.68,108....|\n",
            "|[19.81,22.15,130....|\n",
            "|[13.54,14.36,87.4...|\n",
            "+--------------------+\n",
            "only showing top 20 rows\n",
            "\n",
            "features:  None\n"
          ]
        }
      ]
    },
    {
      "cell_type": "markdown",
      "metadata": {
        "id": "CRaF2A_j_nC7"
      },
      "source": [
        "### Your task"
      ]
    },
    {
      "cell_type": "markdown",
      "metadata": {
        "id": "ebLNUxP0_8x3"
      },
      "source": [
        "If you run successfully the Setup and Data Preprocessing stages, you are now ready to cluster the data with the [K-means](https://spark.apache.org/docs/latest/ml-clustering.html) algorithm included in MLlib (Spark's Machine Learning library).\n",
        "Set the ```k``` parameter to **2**, fit the model, and the compute the [Silhouette score](https://en.wikipedia.org/wiki/Silhouette_(clustering)) (i.e., a measure of quality of the obtained clustering).  \n",
        "\n",
        "**IMPORTANT:** use the MLlib implementation of the Silhouette score (via ```ClusteringEvaluator```)."
      ]
    },
    {
      "cell_type": "code",
      "metadata": {
        "id": "0xVIfPHZwWaE"
      },
      "source": [
        "from pyspark.ml.clustering import KMeans\n",
        "from pyspark.ml.evaluation import ClusteringEvaluator\n",
        "\n",
        "# Code referenced from: https://spark.apache.org/docs/latest/ml-clustering.html#output-columns\n",
        "\n",
        "# Trains a k-means model.\n",
        "kmeans = KMeans().setK(2).setSeed(1)\n",
        "model = kmeans.fit(df)\n",
        "\n",
        "# Make predictions\n",
        "predictions = model.transform(df)\n",
        "\n",
        "# Evaluate clustering by computing Silhouette score\n",
        "evaluator = ClusteringEvaluator()\n",
        "\n",
        "silhouette = evaluator.evaluate(predictions)"
      ],
      "execution_count": 11,
      "outputs": []
    },
    {
      "cell_type": "code",
      "source": [
        "print(\"labels variable (i.e., the ground truth from our dataset) =\\n\", labels)\n",
        "print(\"Silhouette with squared euclidean distance = \", silhouette)"
      ],
      "metadata": {
        "colab": {
          "base_uri": "https://localhost:8080/"
        },
        "id": "_Yh-JKSoKkek",
        "outputId": "45025129-aed2-4228-85ee-4668e9d8332a"
      },
      "execution_count": 12,
      "outputs": [
        {
          "output_type": "stream",
          "name": "stdout",
          "text": [
            "labels variable (i.e., the ground truth from our dataset) =\n",
            " 0      0\n",
            "1      0\n",
            "2      0\n",
            "3      0\n",
            "4      0\n",
            "      ..\n",
            "564    0\n",
            "565    0\n",
            "566    0\n",
            "567    0\n",
            "568    1\n",
            "Length: 569, dtype: int64\n",
            "Silhouette with squared euclidean distance =  0.8342904262826145\n"
          ]
        }
      ]
    },
    {
      "cell_type": "markdown",
      "metadata": {
        "id": "5GB09n7sqTO6"
      },
      "source": [
        "Take the predictions produced by K-means, and compare them with the ```labels``` variable (i.e., the ground truth from our dataset).  \n",
        "\n",
        "Compute how many data points in the dataset have been clustered correctly (i.e., positive cases in one cluster, negative cases in the other).\n",
        "\n",
        "*HINT*: you can use ```np.count_nonzero(series_a == series_b)``` to quickly compute the element-wise comparison of two series.\n",
        "\n",
        "**IMPORTANT**: K-means is a clustering algorithm, so it will not output a label for each data point, but just a cluster identifier!  As such, label ```0``` does not necessarily match the cluster identifier ```0```.\n"
      ]
    },
    {
      "cell_type": "code",
      "source": [
        "#Is this comparing values correctly? Is 'prediction' the correct feature to select?\n",
        "#Could the binary values be flipped? aka is this 83 RIGHT or 83 WRONG?"
      ],
      "metadata": {
        "id": "dZ2SgfhIZ7B_"
      },
      "execution_count": 13,
      "outputs": []
    },
    {
      "cell_type": "code",
      "metadata": {
        "id": "WQhC3APIPPM5",
        "colab": {
          "base_uri": "https://localhost:8080/"
        },
        "outputId": "99d3c90e-62ee-4efa-e4aa-37c8b2cbf57f"
      },
      "source": [
        "prediction_series = (predictions.select('prediction').rdd.map(lambda x: x[0]).collect())\n",
        "np.count_nonzero(labels == prediction_series)"
      ],
      "execution_count": 14,
      "outputs": [
        {
          "output_type": "execute_result",
          "data": {
            "text/plain": [
              "83"
            ]
          },
          "metadata": {},
          "execution_count": 14
        }
      ]
    },
    {
      "cell_type": "markdown",
      "metadata": {
        "id": "fLIprM1JsdTU"
      },
      "source": [
        "Now perform dimensionality reduction on the ```features``` using [SVD](https://spark.apache.org/docs/latest/mllib-dimensionality-reduction), available as well in MLlib.\n",
        "\n",
        "Reduce the dimensionality to **2**, effectively reducing the dataset size of a **15X** factor. Name the new dataset as ```svdFeatures```"
      ]
    },
    {
      "cell_type": "code",
      "metadata": {
        "id": "p4J8JMDkSb24",
        "colab": {
          "base_uri": "https://localhost:8080/"
        },
        "outputId": "581682b2-97e0-474f-8c07-85e545741e63"
      },
      "source": [
        "from pyspark.mllib.linalg.distributed import RowMatrix\n",
        "\n",
        "# Referenced from: https://stackoverflow.com/a/53066752\n",
        "# After Google search: turn dataframe into a rowmatrix\n",
        "# features is a DataFrame\n",
        "featuresRDD = features.rdd.map(list)\n",
        "featuresRowMatrix = RowMatrix(featuresRDD)\n",
        "# Referenced from: https://spark.apache.org/docs/latest/mllib-dimensionality-reduction#svd-example\n",
        "svdFeatures = featuresRowMatrix.computeSVD(2, computeU=True)\n",
        "print('The U factor is a RowMatrix: \\n', svdFeatures.U)\n",
        "print('The singular values are stored in a local dense vector: \\n', svdFeatures.s)\n",
        "print('The V factor is a local dense matrix:')\n",
        "print(svdFeatures.V)"
      ],
      "execution_count": 15,
      "outputs": [
        {
          "output_type": "stream",
          "name": "stdout",
          "text": [
            "The U factor is a RowMatrix: \n",
            " <pyspark.mllib.linalg.distributed.RowMatrix object at 0x7d9f8a125f00>\n",
            "The singular values are stored in a local dense vector: \n",
            " [30786.444627835797,2480.4457833852953]\n",
            "The V factor is a local dense matrix:\n",
            "DenseMatrix([[ 1.07417853e-02,  3.10857421e-02],\n",
            "             [ 1.34045777e-02,  4.83124253e-02],\n",
            "             [ 7.04506088e-02,  1.97364828e-01],\n",
            "             [ 5.72522445e-01,  7.70224130e-01],\n",
            "             [ 6.51751678e-05,  2.62097172e-04],\n",
            "             [ 8.01017182e-05,  1.75341873e-04],\n",
            "             [ 8.07639302e-05,  4.07661495e-05],\n",
            "             [ 4.51934799e-05,  1.69018436e-05],\n",
            "             [ 1.22298430e-04,  4.97684199e-04],\n",
            "             [ 4.10463505e-05,  1.84499403e-04],\n",
            "             [ 3.52395083e-04,  8.41315666e-05],\n",
            "             [ 7.91756415e-04,  4.03047670e-03],\n",
            "             [ 2.49763979e-03,  1.33910533e-03],\n",
            "             [ 4.15710660e-02, -6.79661807e-02],\n",
            "             [ 4.46726431e-06,  2.42657052e-05],\n",
            "             [ 1.84034785e-05,  6.56841723e-05],\n",
            "             [ 2.35606720e-05,  8.35322707e-05],\n",
            "             [ 8.71328141e-06,  3.01365028e-05],\n",
            "             [ 1.33301479e-05,  7.25209655e-05],\n",
            "             [ 2.50009455e-06,  1.16619632e-05],\n",
            "             [ 1.27106222e-02,  2.41432752e-02],\n",
            "             [ 1.78787301e-02,  5.79087644e-02],\n",
            "             [ 8.44072509e-02,  1.54087672e-01],\n",
            "             [ 8.10936848e-01, -5.76353692e-01],\n",
            "             [ 8.96729192e-05,  3.22213232e-04],\n",
            "             [ 1.95800247e-04,  2.65381775e-04],\n",
            "             [ 2.25664038e-04,  1.46636756e-04],\n",
            "             [ 9.56995686e-05,  7.94819348e-05],\n",
            "             [ 1.97533332e-04,  7.03619455e-04],\n",
            "             [ 5.62166955e-05,  2.08881378e-04]])\n"
          ]
        }
      ]
    },
    {
      "cell_type": "code",
      "source": [
        "# # Convert svd.U to dataframe\n",
        "# svdFeatUrows = svdFeatures.U.rows.map(lambda x: (x[0],x[1])).collect()\n",
        "# reduced_df = spark.createDataFrame(pd.DataFrame(svdFeatUrows))\n",
        "# # Set nullable to prevent error in kMeans\n",
        "# # https://stackoverflow.com/questions/55162989/pyspark-kmeans-clustering-features-column-illegalargumentexception\n",
        "# reduced_df = set_df_columns_nullable(spark, reduced_df, reduced_df.columns)"
      ],
      "metadata": {
        "id": "8TnXTyAnkDAA"
      },
      "execution_count": 16,
      "outputs": []
    },
    {
      "cell_type": "markdown",
      "metadata": {
        "id": "8leQR4-atMAl"
      },
      "source": [
        "Now run K-means with the same parameters as above, but on the ```svdFeatures``` produced by the SVD reduction you just executed.\n",
        "\n",
        "Compute the Silhouette score, as well as the number of data points that have been clustered correctly."
      ]
    },
    {
      "cell_type": "code",
      "source": [
        "from pyspark.sql import dataframe\n",
        "from pyspark.mllib.linalg import Matrix, Matrices, DenseMatrix\n",
        "# Matrix Multiply U by s: result should be either a RowMatrix or a dataframe\n",
        "# svdUsProductRowMatrix or svdUsProductDf\n",
        "# if RowMatrix:\n",
        "#  svdUsProductDf = spark.createDataFrame(pd.DataFrame(svdUsProductRowMatrix))\n",
        "u_factor = svdFeatures.U\n",
        "\n",
        "# convert svd.s[DenseVector] into a numpy.Array\n",
        "# https://api-docs.databricks.com/python/pyspark/latest/api/pyspark.mllib.linalg.DenseVector.html?highlight=densevector#pyspark.mllib.linalg.DenseVector.toArray\n",
        "s_factor_numpyArray = svdFeatures.s.toArray()\n",
        "\n",
        "# convert numpy.Array into a DenseMatrix\n",
        "s_factor_DenseMatrix = DenseMatrix(2, 2, [svdFeatures.s[0], 0, 0, svdFeatures.s[1]])\n",
        "\n",
        "# Multiply U by s\n",
        "# https://spark.apache.org/docs/latest/api/python/reference/api/pyspark.mllib.linalg.distributed.RowMatrix.html#pyspark.mllib.linalg.distributed.RowMatrix.multiply\n",
        "reduced_matrix = u_factor.multiply(s_factor_DenseMatrix)\n",
        "\n",
        "# Convert to pandas df & then spark df\n",
        "reduced_df = spark.createDataFrame(pd.DataFrame(reduced_matrix.rows.collect()))\n",
        "\n",
        "print(\"U: \", u_factor.rows.collect(), \"\\n\")\n",
        "print(\"Σ: \", s_factor_DenseMatrix, \"\\n\")\n",
        "print(\"Final reduced data: \", reduced_df.collect())\n"
      ],
      "metadata": {
        "colab": {
          "base_uri": "https://localhost:8080/"
        },
        "id": "xNUOSpQloQIR",
        "outputId": "736980ee-f3a7-4de6-8d9f-194af4bd1a62"
      },
      "execution_count": 100,
      "outputs": [
        {
          "output_type": "stream",
          "name": "stdout",
          "text": [
            "U:  [DenseVector([0.0728, -0.1402]), DenseVector([0.0771, -0.0229]), DenseVector([0.0683, -0.0048]), DenseVector([0.0227, 0.0009]), DenseVector([0.0665, 0.0555]), DenseVector([0.0289, -0.0108]), DenseVector([0.0625, -0.0312]), DenseVector([0.035, -0.0149]), DenseVector([0.0297, 0.004]), DenseVector([0.0281, -0.0037]), DenseVector([0.0458, -0.0031]), DenseVector([0.0495, -0.0427]), DenseVector([0.0569, 0.0576]), DenseVector([0.0383, 0.0551]), DenseVector([0.0297, 0.0326]), DenseVector([0.0377, 0.0017]), DenseVector([0.0434, -0.0364]), DenseVector([0.0502, -0.0403]), DenseVector([0.0876, -0.1454]), DenseVector([0.0298, 0.0241]), DenseVector([0.0268, 0.0284]), DenseVector([0.0137, 0.0211]), DenseVector([0.0396, 0.0066]), DenseVector([0.096, -0.1498]), DenseVector([0.0761, -0.2152]), DenseVector([0.0563, -0.0392]), DenseVector([0.0362, 0.0081]), DenseVector([0.0581, 0.031]), DenseVector([0.0478, -0.0495]), DenseVector([0.0508, 0.0285]), DenseVector([0.0651, -0.0314]), DenseVector([0.0322, -0.0559]), DenseVector([0.0529, -0.0158]), DenseVector([0.0702, -0.0404]), DenseVector([0.0489, -0.0252]), DenseVector([0.0493, 0.0017]), DenseVector([0.0334, 0.0262]), DenseVector([0.0246, 0.0484]), DenseVector([0.0321, 0.0667]), DenseVector([0.0305, 0.0161]), DenseVector([0.0318, 0.0059]), DenseVector([0.0209, 0.008]), DenseVector([0.065, -0.0207]), DenseVector([0.0346, -0.027]), DenseVector([0.0299, 0.0073]), DenseVector([0.0621, -0.0115]), DenseVector([0.0104, 0.0149]), DenseVector([0.0305, 0.0034]), DenseVector([0.0242, 0.0164]), DenseVector([0.0294, 0.0258]), DenseVector([0.022, 0.0245]), DenseVector([0.0284, 0.0386]), DenseVector([0.0225, 0.0253]), DenseVector([0.0548, 0.0304]), DenseVector([0.041, -0.0022]), DenseVector([0.0214, 0.0208]), DenseVector([0.0789, -0.1214]), DenseVector([0.0388, -0.0098]), DenseVector([0.0268, 0.0312]), DenseVector([0.0117, 0.0144]), DenseVector([0.0159, 0.0207]), DenseVector([0.0117, 0.0142]), DenseVector([0.038, -0.0076]), DenseVector([0.0134, 0.018]), DenseVector([0.0333, -0.0374]), DenseVector([0.0374, 0.0081]), DenseVector([0.0141, 0.0167]), DenseVector([0.0201, 0.0252]), DenseVector([0.0136, 0.0117]), DenseVector([0.0244, 0.0395]), DenseVector([0.0711, -0.0637]), DenseVector([0.0124, 0.0184]), DenseVector([0.0624, -0.0837]), DenseVector([0.0328, 0.0071]), DenseVector([0.0253, 0.0167]), DenseVector([0.0482, -0.0148]), DenseVector([0.0269, 0.0455]), DenseVector([0.062, -0.0453]), DenseVector([0.0669, 0.03]), DenseVector([0.0263, 0.0257]), DenseVector([0.0218, 0.0145]), DenseVector([0.0264, 0.0323]), DenseVector([0.1036, 0.0132]), DenseVector([0.0561, 0.0688]), DenseVector([0.0237, 0.018]), DenseVector([0.0631, -0.0203]), DenseVector([0.034, 0.0279]), DenseVector([0.0636, -0.0237]), DenseVector([0.0243, 0.0241]), DenseVector([0.0339, 0.03]), DenseVector([0.0341, 0.0335]), DenseVector([0.036, 0.0483]), DenseVector([0.0327, -0.0083]), DenseVector([0.0293, 0.0234]), DenseVector([0.0408, -0.0034]), DenseVector([0.0705, 0.0054]), DenseVector([0.0219, 0.0368]), DenseVector([0.0155, 0.0163]), DenseVector([0.0216, 0.0206]), DenseVector([0.0343, 0.0225]), DenseVector([0.0353, -0.0155]), DenseVector([0.0078, 0.0088]), DenseVector([0.0234, 0.0276]), DenseVector([0.0155, 0.0192]), DenseVector([0.0173, 0.0213]), DenseVector([0.0322, -0.0138]), DenseVector([0.0219, 0.0189]), DenseVector([0.0235, 0.0311]), DenseVector([0.0914, -0.0578]), DenseVector([0.0215, 0.0146]), DenseVector([0.0155, 0.0147]), DenseVector([0.0233, 0.0394]), DenseVector([0.031, 0.0458]), DenseVector([0.0165, 0.0274]), DenseVector([0.0121, 0.0148]), DenseVector([0.024, 0.0129]), DenseVector([0.012, 0.0225]), DenseVector([0.0422, -0.0266]), DenseVector([0.0488, -0.0361]), DenseVector([0.0522, 0.029]), DenseVector([0.0214, 0.0182]), DenseVector([0.0617, -0.0079]), DenseVector([0.0886, 0.0847]), DenseVector([0.0321, 0.0399]), DenseVector([0.0274, 0.0383]), DenseVector([0.0306, 0.0281]), DenseVector([0.0336, -0.0043]), DenseVector([0.0625, 0.0142]), DenseVector([0.0332, 0.0468]), DenseVector([0.0649, 0.0205]), DenseVector([0.0233, 0.0274]), DenseVector([0.0451, -0.0202]), DenseVector([0.0467, -0.0047]), DenseVector([0.0391, 0.0376]), DenseVector([0.0627, -0.0173]), DenseVector([0.0271, 0.0185]), DenseVector([0.0228, 0.0161]), DenseVector([0.02, 0.0283]), DenseVector([0.0389, -0.0015]), DenseVector([0.019, 0.0294]), DenseVector([0.0148, 0.0194]), DenseVector([0.0483, -0.0184]), DenseVector([0.0211, 0.0184]), DenseVector([0.027, 0.0228]), DenseVector([0.0186, 0.0186]), DenseVector([0.0219, 0.0278]), DenseVector([0.0241, 0.0092]), DenseVector([0.0348, 0.0406]), DenseVector([0.0327, 0.0353]), DenseVector([0.0305, 0.0266]), DenseVector([0.0264, 0.0306]), DenseVector([0.0107, 0.0141]), DenseVector([0.016, 0.0139]), DenseVector([0.0191, 0.027]), DenseVector([0.0284, 0.0233]), DenseVector([0.0239, 0.0242]), DenseVector([0.053, 0.0132]), DenseVector([0.0442, 0.0498]), DenseVector([0.0228, 0.0274]), DenseVector([0.0196, 0.0154]), DenseVector([0.0226, 0.0158]), DenseVector([0.0618, 0.029]), DenseVector([0.0823, -0.1216]), DenseVector([0.0237, 0.0283]), DenseVector([0.0957, -0.0123]), DenseVector([0.034, 0.0474]), DenseVector([0.0179, 0.0253]), DenseVector([0.0504, -0.0012]), DenseVector([0.0629, -0.0628]), DenseVector([0.0342, 0.0433]), DenseVector([0.0236, 0.0286]), DenseVector([0.0373, -0.041]), DenseVector([0.0434, -0.0115]), DenseVector([0.0178, 0.0341]), DenseVector([0.0177, 0.024]), DenseVector([0.0114, 0.0188]), DenseVector([0.0163, 0.0133]), DenseVector([0.042, 0.0476]), DenseVector([0.0263, 0.035]), DenseVector([0.025, 0.0376]), DenseVector([0.1278, -0.0221]), DenseVector([0.0804, -0.0564]), DenseVector([0.0484, -0.0403]), DenseVector([0.0202, 0.0274]), DenseVector([0.0395, 0.0104]), DenseVector([0.0178, 0.0071]), DenseVector([0.0572, 0.0143]), DenseVector([0.022, 0.0211]), DenseVector([0.0213, 0.0312]), DenseVector([0.0235, 0.0292]), DenseVector([0.032, 0.0271]), DenseVector([0.0252, 0.0348]), DenseVector([0.0137, 0.028]), DenseVector([0.0297, -0.0168]), DenseVector([0.0338, 0.0423]), DenseVector([0.0259, 0.0337]), DenseVector([0.0328, 0.0097]), DenseVector([0.0522, 0.0493]), DenseVector([0.0667, -0.0151]), DenseVector([0.0401, -0.0272]), DenseVector([0.0259, 0.0074]), DenseVector([0.0511, 0.0257]), DenseVector([0.0847, 0.0849]), DenseVector([0.0422, -0.0667]), DenseVector([0.0273, 0.005]), DenseVector([0.04, 0.0082]), DenseVector([0.0146, 0.0246]), DenseVector([0.0494, 0.016]), DenseVector([0.0272, 0.03]), DenseVector([0.0387, 0.0239]), DenseVector([0.0685, 0.0348]), DenseVector([0.0228, 0.018]), DenseVector([0.114, 0.2091]), DenseVector([0.0452, 0.0737]), DenseVector([0.0333, 0.0164]), DenseVector([0.0311, 0.0199]), DenseVector([0.0225, 0.023]), DenseVector([0.017, 0.0163]), DenseVector([0.0768, -0.0658]), DenseVector([0.089, -0.1752]), DenseVector([0.0297, 0.0262]), DenseVector([0.0291, 0.0285]), DenseVector([0.0161, 0.0203]), DenseVector([0.0435, 0.0002]), DenseVector([0.0294, 0.0184]), DenseVector([0.0355, 0.0101]), DenseVector([0.0169, 0.021]), DenseVector([0.0346, 0.0402]), DenseVector([0.0262, 0.0222]), DenseVector([0.0285, 0.0063]), DenseVector([0.0487, 0.0194]), DenseVector([0.0197, 0.0298]), DenseVector([0.02, 0.0227]), DenseVector([0.0747, -0.0046]), DenseVector([0.0144, 0.0183]), DenseVector([0.0306, 0.0352]), DenseVector([0.1098, -0.1428]), DenseVector([0.0713, 0.0187]), DenseVector([0.0323, 0.0309]), DenseVector([0.055, -0.0226]), DenseVector([0.0292, 0.033]), DenseVector([0.0236, 0.034]), DenseVector([0.0202, 0.0232]), DenseVector([0.0301, 0.0326]), DenseVector([0.0596, 0.0486]), DenseVector([0.0173, 0.0218]), DenseVector([0.0264, 0.0414]), DenseVector([0.0269, 0.0244]), DenseVector([0.0189, 0.0132]), DenseVector([0.021, 0.0233]), DenseVector([0.0793, -0.0243]), DenseVector([0.0214, 0.0197]), DenseVector([0.0742, -0.0554]), DenseVector([0.0501, 0.0218]), DenseVector([0.0746, -0.0755]), DenseVector([0.0335, 0.0093]), DenseVector([0.0742, -0.052]), DenseVector([0.0384, 0.0209]), DenseVector([0.0476, -0.0292]), DenseVector([0.0418, 0.0085]), DenseVector([0.0734, -0.0074]), DenseVector([0.0501, 0.0239]), DenseVector([0.0525, 0.0101]), DenseVector([0.0408, 0.0219]), DenseVector([0.0558, -0.0275]), DenseVector([0.118, -0.3359]), DenseVector([0.0181, 0.0196]), DenseVector([0.0284, 0.0342]), DenseVector([0.0258, 0.033]), DenseVector([0.0177, 0.0227]), DenseVector([0.0303, 0.0513]), DenseVector([0.0197, 0.0253]), DenseVector([0.0917, -0.0697]), DenseVector([0.0151, 0.0172]), DenseVector([0.0541, 0.0215]), DenseVector([0.021, 0.0362]), DenseVector([0.0199, 0.0278]), DenseVector([0.0538, 0.073]), DenseVector([0.0306, 0.0197]), DenseVector([0.0291, 0.0405]), DenseVector([0.0674, -0.0273]), DenseVector([0.0225, 0.0198]), DenseVector([0.065, -0.0031]), DenseVector([0.0428, 0.0275]), DenseVector([0.0258, 0.0349]), DenseVector([0.0244, 0.033]), DenseVector([0.0231, 0.0227]), DenseVector([0.0253, 0.0386]), DenseVector([0.0193, 0.0316]), DenseVector([0.0199, 0.0277]), DenseVector([0.033, 0.0369]), DenseVector([0.0347, 0.0404]), DenseVector([0.0255, 0.0362]), DenseVector([0.0221, 0.0261]), DenseVector([0.0242, 0.0368]), DenseVector([0.0288, 0.0407]), DenseVector([0.0175, 0.0323]), DenseVector([0.0231, 0.0163]), DenseVector([0.0339, 0.0207]), DenseVector([0.0162, 0.0299]), DenseVector([0.0777, -0.0804]), DenseVector([0.0238, 0.0306]), DenseVector([0.0688, 0.0118]), DenseVector([0.0165, 0.0272]), DenseVector([0.0209, 0.0229]), DenseVector([0.0208, 0.0308]), DenseVector([0.0273, 0.0319]), DenseVector([0.0124, 0.0191]), DenseVector([0.0294, 0.0266]), DenseVector([0.0281, 0.021]), DenseVector([0.021, 0.0297]), DenseVector([0.0351, 0.0253]), DenseVector([0.0262, 0.0253]), DenseVector([0.0204, 0.0298]), DenseVector([0.0108, 0.0213]), DenseVector([0.0237, 0.0354]), DenseVector([0.0225, 0.0358]), DenseVector([0.059, -0.0079]), DenseVector([0.0128, 0.0164]), DenseVector([0.0229, 0.0399]), DenseVector([0.0167, 0.0201]), DenseVector([0.0682, 0.0297]), DenseVector([0.0257, 0.0304]), DenseVector([0.0755, -0.0366]), DenseVector([0.0244, 0.0191]), DenseVector([0.0247, 0.0313]), DenseVector([0.0318, 0.0308]), DenseVector([0.0225, 0.0288]), DenseVector([0.0454, 0.0091]), DenseVector([0.0417, 0.0456]), DenseVector([0.0436, 0.0141]), DenseVector([0.0268, 0.0257]), DenseVector([0.0191, 0.0301]), DenseVector([0.0207, 0.0181]), DenseVector([0.0234, 0.0301]), DenseVector([0.0538, -0.0142]), DenseVector([0.0252, 0.0386]), DenseVector([0.0705, -0.0771]), DenseVector([0.0163, 0.0176]), DenseVector([0.1102, -0.1106]), DenseVector([0.0352, 0.0135]), DenseVector([0.0149, 0.015]), DenseVector([0.019, 0.0252]), DenseVector([0.0636, 0.0329]), DenseVector([0.0219, 0.022]), DenseVector([0.0158, 0.027]), DenseVector([0.0236, 0.0198]), DenseVector([0.0362, 0.0179]), DenseVector([0.0205, 0.026]), DenseVector([0.0215, 0.0288]), DenseVector([0.0226, 0.0161]), DenseVector([0.0389, 0.0387]), DenseVector([0.1238, -0.1019]), DenseVector([0.0417, -0.0062]), DenseVector([0.0195, 0.0248]), DenseVector([0.024, 0.0361]), DenseVector([0.0256, 0.0349]), DenseVector([0.0299, 0.0367]), DenseVector([0.0128, 0.0133]), DenseVector([0.0172, -0.0058]), DenseVector([0.0251, 0.0287]), DenseVector([0.027, 0.0386]), DenseVector([0.025, 0.0323]), DenseVector([0.0428, 0.042]), DenseVector([0.0283, 0.0308]), DenseVector([0.0718, 0.0081]), DenseVector([0.0679, 0.0145]), DenseVector([0.0255, 0.01]), DenseVector([0.1128, -0.2312]), DenseVector([0.0873, -0.0354]), DenseVector([0.047, 0.0073]), DenseVector([0.0354, 0.0455]), DenseVector([0.067, 0.0946]), DenseVector([0.077, -0.0173]), DenseVector([0.029, 0.0379]), DenseVector([0.038, 0.0609]), DenseVector([0.016, 0.0346]), DenseVector([0.0289, 0.0306]), DenseVector([0.0286, 0.0415]), DenseVector([0.0206, 0.0068]), DenseVector([0.0202, 0.021]), DenseVector([0.0191, 0.0231]), DenseVector([0.0217, 0.0384]), DenseVector([0.0249, 0.0172]), DenseVector([0.027, 0.0367]), DenseVector([0.0329, 0.0447]), DenseVector([0.023, 0.0325]), DenseVector([0.0313, 0.0258]), DenseVector([0.0196, 0.0283]), DenseVector([0.0572, 0.0782]), DenseVector([0.0168, 0.0185]), DenseVector([0.0131, 0.0078]), DenseVector([0.0504, -0.0679]), DenseVector([0.0819, -0.025]), DenseVector([0.0235, 0.0209]), DenseVector([0.0299, 0.0441]), DenseVector([0.0287, 0.0303]), DenseVector([0.0255, 0.033]), DenseVector([0.0205, 0.0133]), DenseVector([0.0233, 0.0154]), DenseVector([0.0536, 0.0252]), DenseVector([0.0242, 0.0124]), DenseVector([0.0267, 0.0319]), DenseVector([0.0252, 0.0357]), DenseVector([0.0232, 0.0334]), DenseVector([0.0198, 0.0164]), DenseVector([0.0405, 0.0442]), DenseVector([0.0271, 0.0222]), DenseVector([0.0547, 0.0125]), DenseVector([0.0252, 0.0153]), DenseVector([0.0216, 0.0152]), DenseVector([0.0198, 0.0178]), DenseVector([0.0133, 0.0235]), DenseVector([0.0363, 0.0293]), DenseVector([0.0385, 0.0221]), DenseVector([0.0223, 0.0254]), DenseVector([0.0149, 0.0104]), DenseVector([0.0619, -0.1422]), DenseVector([0.0246, 0.0343]), DenseVector([0.0196, 0.0231]), DenseVector([0.0218, 0.0183]), DenseVector([0.0341, 0.0303]), DenseVector([0.0206, 0.0279]), DenseVector([0.0299, 0.0281]), DenseVector([0.0158, 0.0108]), DenseVector([0.016, 0.0184]), DenseVector([0.0182, 0.0122]), DenseVector([0.02, 0.0096]), DenseVector([0.0186, 0.0315]), DenseVector([0.0253, 0.0318]), DenseVector([0.0353, 0.0359]), DenseVector([0.0228, 0.0382]), DenseVector([0.063, 0.0642]), DenseVector([0.0637, -0.0102]), DenseVector([0.0336, 0.0429]), DenseVector([0.0346, -0.0006]), DenseVector([0.0265, 0.0255]), DenseVector([0.0317, 0.0292]), DenseVector([0.0313, 0.0238]), DenseVector([0.0299, 0.0419]), DenseVector([0.0199, 0.0167]), DenseVector([0.0518, 0.0074]), DenseVector([0.03, 0.0311]), DenseVector([0.0164, 0.0312]), DenseVector([0.0532, 0.0251]), DenseVector([0.0222, 0.03]), DenseVector([0.0569, -0.0101]), DenseVector([0.035, 0.0317]), DenseVector([0.0347, 0.0268]), DenseVector([0.0799, -0.0192]), DenseVector([0.0219, 0.0284]), DenseVector([0.0604, 0.0586]), DenseVector([0.0225, 0.0284]), DenseVector([0.0323, 0.04]), DenseVector([0.0263, 0.0187]), DenseVector([0.0295, 0.023]), DenseVector([0.0221, 0.0187]), DenseVector([0.0272, 0.0334]), DenseVector([0.0267, 0.0287]), DenseVector([0.015, 0.0195]), DenseVector([0.0616, -0.0769]), DenseVector([0.1605, -0.1943]), DenseVector([0.0319, 0.0446]), DenseVector([0.0212, 0.025]), DenseVector([0.0286, 0.0204]), DenseVector([0.03, 0.0129]), DenseVector([0.0287, 0.0203]), DenseVector([0.0157, 0.0104]), DenseVector([0.0569, -0.0124]), DenseVector([0.022, 0.0162]), DenseVector([0.0159, 0.0101]), DenseVector([0.0238, 0.0197]), DenseVector([0.0372, 0.0177]), DenseVector([0.0239, 0.0269]), DenseVector([0.0185, 0.0222]), DenseVector([0.0259, 0.0298]), DenseVector([0.0339, 0.0144]), DenseVector([0.0306, 0.0332]), DenseVector([0.0203, 0.0287]), DenseVector([0.0406, 0.0517]), DenseVector([0.0234, 0.0268]), DenseVector([0.0337, 0.0083]), DenseVector([0.0281, 0.0297]), DenseVector([0.0292, 0.0314]), DenseVector([0.037, 0.0492]), DenseVector([0.0247, 0.0261]), DenseVector([0.0348, 0.0285]), DenseVector([0.0684, -0.0225]), DenseVector([0.0228, 0.0145]), DenseVector([0.0452, 0.0316]), DenseVector([0.0256, 0.0131]), DenseVector([0.051, 0.0436]), DenseVector([0.0571, -0.0013]), DenseVector([0.0234, 0.0358]), DenseVector([0.0276, 0.0299]), DenseVector([0.0339, 0.0443]), DenseVector([0.0262, 0.0167]), DenseVector([0.0254, 0.021]), DenseVector([0.0629, -0.0227]), DenseVector([0.0718, 0.0216]), DenseVector([0.036, 0.0298]), DenseVector([0.0324, 0.0164]), DenseVector([0.0239, 0.0321]), DenseVector([0.1058, -0.1023]), DenseVector([0.0129, 0.017]), DenseVector([0.0141, 0.0182]), DenseVector([0.0225, 0.0335]), DenseVector([0.0181, 0.0294]), DenseVector([0.0403, 0.0546]), DenseVector([0.0382, 0.0321]), DenseVector([0.0208, 0.0339]), DenseVector([0.0332, 0.049]), DenseVector([0.0332, -0.0087]), DenseVector([0.0355, 0.0185]), DenseVector([0.0391, 0.0084]), DenseVector([0.0203, 0.0216]), DenseVector([0.0597, -0.0022]), DenseVector([0.0668, 0.0147]), DenseVector([0.0275, 0.0095]), DenseVector([0.0261, 0.0211]), DenseVector([0.0138, 0.0135]), DenseVector([0.105, -0.0185]), DenseVector([0.0191, 0.0307]), DenseVector([0.0297, 0.028]), DenseVector([0.0158, 0.0139]), DenseVector([0.0117, 0.0136]), DenseVector([0.0297, 0.018]), DenseVector([0.0241, 0.0266]), DenseVector([0.0288, 0.0455]), DenseVector([0.0232, 0.0225]), DenseVector([0.0229, 0.015]), DenseVector([0.0227, 0.0136]), DenseVector([0.0316, 0.0129]), DenseVector([0.0684, 0.0401]), DenseVector([0.0179, 0.0302]), DenseVector([0.0729, 0.0058]), DenseVector([0.0315, 0.0413]), DenseVector([0.0209, 0.0252]), DenseVector([0.0102, 0.0061]), DenseVector([0.0094, 0.0093]), DenseVector([0.02, 0.03]), DenseVector([0.0341, 0.0315]), DenseVector([0.0348, 0.0306]), DenseVector([0.0271, 0.0346]), DenseVector([0.0296, 0.0356]), DenseVector([0.0304, 0.022]), DenseVector([0.0166, 0.0218]), DenseVector([0.0158, 0.0271]), DenseVector([0.0153, 0.0139]), DenseVector([0.0205, 0.0061]), DenseVector([0.018, 0.0269]), DenseVector([0.019, 0.0274]), DenseVector([0.0256, 0.0327]), DenseVector([0.0131, 0.0226]), DenseVector([0.0258, 0.0346]), DenseVector([0.0158, 0.0275]), DenseVector([0.0153, 0.0261]), DenseVector([0.0142, 0.017]), DenseVector([0.0321, 0.0487]), DenseVector([0.0205, 0.0273]), DenseVector([0.0303, 0.0365]), DenseVector([0.0192, 0.0291]), DenseVector([0.0381, 0.0276]), DenseVector([0.074, 0.0165]), DenseVector([0.0819, 0.0071]), DenseVector([0.07, 0.0086]), DenseVector([0.0463, 0.0222]), DenseVector([0.0725, -0.0081]), DenseVector([0.0108, 0.0021])] \n",
            "\n",
            "Σ:  DenseMatrix([[30786.44462784,     0.        ],\n",
            "             [    0.        ,  2480.44578339]]) \n",
            "\n",
            "Final reduced data:  [Row(0=2241.974276471012, 1=-347.7155601506186), Row(0=2372.4084026672435, 1=-56.90166991262408), Row(0=2101.840279701476, 1=-11.947627371073507), Row(0=697.4321051401307, 1=2.127700026328579), Row(0=2047.0872292081392, 1=137.76511286411014), Row(0=891.1885700497089, 1=-26.667157330162116), Row(0=1922.6443037109807, 1=-77.34918907477156), Row(0=1077.237281266245, 1=-37.01051098596988), Row(0=914.4480395501498, 1=9.86474634179387), Row(0=865.8995577294444, 1=-9.196983593313552), Row(0=1410.0453907710796, 1=-7.675213443222956), Row(0=1522.7855770150663, 1=-105.90238270597918), Row(0=1751.4445920135397, 1=142.93097144714127), Row(0=1178.3878117893007, 1=136.58564877441148), Row(0=914.6771847199899, 1=80.97514174489297), Row(0=1162.1159183873094, 1=4.171062544941332), Row(0=1334.9467959354147, 1=-90.3576485680099), Row(0=1546.4185919698425, 1=-100.07834369301996), Row(0=2697.028392610843, 1=-360.6657937611505), Row(0=917.3945933447925, 1=59.89923324949214), Row(0=824.6666526526789, 1=70.54277283393276), Row(0=423.2636579436176, 1=52.405492893480236), Row(0=1219.3166337319533, 1=16.36971970503498), Row(0=2955.418381246794, 1=-371.5644015829403), Row(0=2342.464755883188, 1=-533.8397325794365), Row(0=1734.0759841292947, 1=-97.1472020559531), Row(0=1115.8303668255937, 1=20.213457961697227), Row(0=1789.6287715424903, 1=76.9640037966429), Row(0=1471.4459813746455, 1=-122.70047200321713), Row(0=1564.8705920079017, 1=70.68262892343958), Row(0=2005.3283126247854, 1=-77.94624001603002), Row(0=991.3103436749835, 1=-138.5369682236947), Row(0=1628.3759805624575, 1=-39.267697682237184), Row(0=2162.398604235921, 1=-100.19105700476868), Row(0=1506.0904995452934, 1=-62.434191620376446), Row(0=1516.6044224452962, 1=4.3359809710051485), Row(0=1029.4686509901594, 1=65.03311973664846), Row(0=757.0839835141838, 1=120.11638601098043), Row(0=987.1253280298877, 1=165.37471080069474), Row(0=937.7180534333713, 1=40.010719150156774), Row(0=978.0257358913428, 1=14.537316837152863), Row(0=643.6223874633688, 1=19.798221411821828), Row(0=2000.7558717699897, 1=-51.39166120054913), Row(0=1065.964950990315, 1=-66.96911375460068), Row(0=921.6605366324536, 1=18.190019884661762), Row(0=1912.2928975070374, 1=-28.40422463008073), Row(0=321.64246871413553, 1=36.948773788932336), Row(0=938.7348552524355, 1=8.554977395671907), Row(0=744.4727042152577, 1=40.797568352536594), Row(0=904.3976709330267, 1=64.08794146976278), Row(0=678.3314446326248, 1=60.71124578873293), Row(0=875.7404603822332, 1=95.86730331528956), Row(0=692.1092928236499, 1=62.65293849412247), Row(0=1687.8031573280107, 1=75.50089875069159), Row(0=1262.6493448577564, 1=-5.51754825825137), Row(0=658.6523022377036, 1=51.63938091251442), Row(0=2427.769897226865, 1=-301.20042753629536), Row(0=1194.6639748791451, 1=-24.35634655178986), Row(0=823.7319269726291, 1=77.30821606294779), Row(0=361.3381508980337, 1=35.82779641863615), Row(0=490.13505997281806, 1=51.26283312288653), Row(0=359.9414895480359, 1=35.16303236056563), Row(0=1168.3613878691604, 1=-18.765162251124263), Row(0=412.2913358655834, 1=44.739441912683205), Row(0=1024.101997755906, 1=-92.65796743206118), Row(0=1152.11857090907, 1=20.019285081138218), Row(0=433.9831446874379, 1=41.52422211709285), Row(0=617.4571910963725, 1=62.473460797452056), Row(0=418.0047239291883, 1=28.98070625197254), Row(0=752.2944002551142, 1=97.90250296990872), Row(0=2188.1574330543235, 1=-157.9246021871995), Row(0=381.5103575055654, 1=45.66765461505393), Row(0=1920.4420039725826, 1=-207.57630255056404), Row(0=1010.8163102497874, 1=17.720295644639172), Row(0=780.0870259925468, 1=41.47620355200643), Row(0=1482.5677145584177, 1=-36.70260610885162), Row(0=827.1408746857563, 1=112.95638849033404), Row(0=1909.3573550077383, 1=-112.4055190141292), Row(0=2059.7043517920083, 1=74.40494943545605), Row(0=809.8237975126883, 1=63.66587570476496), Row(0=670.2020095878847, 1=36.08084004368988), Row(0=812.1205826812848, 1=80.10567123646364), Row(0=3189.364767803474, 1=32.85050467985469), Row(0=1725.9209832066474, 1=170.74802837473123), Row(0=728.7949841603818, 1=44.65244380625961), Row(0=1941.3688960313743, 1=-50.390949446798714), Row(0=1045.6640517294381, 1=69.29572741880725), Row(0=1957.4805767884418, 1=-58.799895264912834), Row(0=748.2625805834684, 1=59.732849311922315), Row(0=1043.5609262036676, 1=74.45472235852712), Row(0=1049.1231386820907, 1=83.13554879319047), Row(0=1109.222259902644, 1=119.80149011671764), Row(0=1006.6823113601936, 1=-20.60693450631853), Row(0=901.4152912210686, 1=58.04251046666459), Row(0=1255.7353051935208, 1=-8.391809549674976), Row(0=2170.3764764200646, 1=13.32576404318753), Row(0=674.1849173158015, 1=91.15790824366869), Row(0=477.4975122223909, 1=40.39141633345648), Row(0=665.4962756928269, 1=51.09255468250276), Row(0=1056.2058129866587, 1=55.86099214920691), Row(0=1087.222401212483, 1=-38.38307113713499), Row(0=240.80169642124892, 1=21.72579439031199), Row(0=721.203888797666, 1=68.45289801674856), Row(0=475.7720023304205, 1=47.59387989893152), Row(0=531.9874241619269, 1=52.78203234744638), Row(0=991.8886287417126, 1=-34.277616019795666), Row(0=673.6698389319345, 1=46.913420855784544), Row(0=722.6434971549126, 1=77.21790905384724), Row(0=2814.4266848493694, 1=-143.48703689251207), Row(0=661.1277476437567, 1=36.304943376161475), Row(0=476.0294260956537, 1=36.46790330822885), Row(0=717.9263045402133, 1=97.78586055301), Row(0=953.7713268845648, 1=113.48439487354395), Row(0=507.6838278668375, 1=67.90558511174099), Row(0=373.3583643254764, 1=36.686192397641314), Row(0=738.759733014894, 1=31.97665050941882), Row(0=370.26578138724403, 1=55.70939863141672), Row(0=1299.2320789804646, 1=-65.86025459100756), Row(0=1501.7389492129237, 1=-89.52926731442555), Row(0=1607.2357573193472, 1=71.99563826116247), Row(0=658.2726344956067, 1=45.18283684740816), Row(0=1898.5062219471333, 1=-19.625109332290375), Row(0=2727.26716730889, 1=210.19766777879772), Row(0=988.4861216747869, 1=98.90246640434303), Row(0=844.8797624255999, 1=95.05299105326694), Row(0=942.1468274583626, 1=69.75579712003626), Row(0=1033.9650274957426, 1=-10.610779550635172), Row(0=1924.546867640336, 1=35.298858297158), Row(0=1023.1198349057818, 1=115.97283524038292), Row(0=1996.8419394634573, 1=50.95505569412299), Row(0=717.7993380382583, 1=67.87340164469437), Row(0=1387.0662870225192, 1=-50.009653455844585), Row(0=1438.0095083851218, 1=-11.654357967359338), Row(0=1203.3460442112125, 1=93.37002930185021), Row(0=1929.8006393925605, 1=-42.89448471650826), Row(0=835.472700295791, 1=45.99290105979202), Row(0=700.8097184108137, 1=39.843258153252876), Row(0=616.8510387580822, 1=70.21220922854457), Row(0=1198.3157450693411, 1=-3.6654581368771173), Row(0=585.6904644220467, 1=72.86206790170598), Row(0=454.3384064223826, 1=48.04079948958556), Row(0=1487.8512218644914, 1=-45.53732233592792), Row(0=649.822757424605, 1=45.52550859500127), Row(0=831.051543614569, 1=56.61061850530725), Row(0=574.1592321128621, 1=46.179866843975134), Row(0=675.6604525385812, 1=69.00822898504371), Row(0=742.5157506712234, 1=22.82025702445442), Row(0=1070.0260201124404, 1=100.78045986737878), Row(0=1005.968435164097, 1=87.5750203117183), Row(0=939.8778597660076, 1=66.0832775689145), Row(0=813.5057264760171, 1=75.88522757052856), Row(0=329.4068414147204, 1=35.05106669233835), Row(0=493.8063504249201, 1=34.520231903490824), Row(0=588.9230355294202, 1=66.9936464293854), Row(0=873.888135914115, 1=57.74728567430941), Row(0=735.5732988498363, 1=60.067594391329244), Row(0=1632.1647979162237, 1=32.632272663053385), Row(0=1361.735613826262, 1=123.45993546385543), Row(0=702.7621267156914, 1=68.0406207002577), Row(0=604.1198502291064, 1=38.28171023692932), Row(0=696.919419671883, 1=39.16713414395481), Row(0=1902.0272283046725, 1=71.8509315644952), Row(0=2534.33809275487, 1=-301.55046963050955), Row(0=729.4021797476762, 1=70.25709476627793), Row(0=2945.7038637674545, 1=-30.519471040124138), Row(0=1046.538022717863, 1=117.63047160555651), Row(0=552.6132990744985, 1=62.74885302628845), Row(0=1551.9079112313511, 1=-2.9729549804786854), Row(0=1937.643449758211, 1=-155.6703927225194), Row(0=1053.9607596894525, 1=107.31558787371117), Row(0=725.3682007939044, 1=70.98238217351714), Row(0=1148.323697400418, 1=-101.68257823385096), Row(0=1336.0490054169395, 1=-28.60420046123513), Row(0=547.4995016345806, 1=84.50698462348996), Row(0=543.9210942125962, 1=59.51545505219679), Row(0=350.2177234066624, 1=46.74864013936771), Row(0=502.35716108024155, 1=33.0423561621695), Row(0=1293.1718131704924, 1=118.02563732063754), Row(0=810.0291786885278, 1=86.86340900326138), Row(0=768.8320326217803, 1=93.18736997866306), Row(0=3934.5750023929604, 1=-54.71457081870404), Row(0=2474.494337796111, 1=-139.88297088771387), Row(0=1489.0122210762654, 1=-99.96357365646473), Row(0=622.6309787130953, 1=67.92027725501445), Row(0=1214.5395240612256, 1=25.817617280882114), Row(0=548.957742277923, 1=17.6495035386979), Row(0=1761.9171447772685, 1=35.548214238355406), Row(0=677.5733361017509, 1=52.443304504663), Row(0=656.1265430558459, 1=77.4107098367532), Row(0=723.3172414489015, 1=72.33853129729762), Row(0=985.7227854605779, 1=67.3165089844073), Row(0=776.9936994706359, 1=86.21469495794483), Row(0=422.59822435184145, 1=69.56136583106756), Row(0=913.98794380154, 1=-41.75844752035788), Row(0=1040.0472309719062, 1=104.83077918366924), Row(0=797.7653528109585, 1=83.60197845081457), Row(0=1010.6518138225763, 1=24.116507512223766), Row(0=1605.6276513970608, 1=122.35676031023247), Row(0=2052.7875019327557, 1=-37.43518238787236), Row(0=1233.1963793774225, 1=-67.57600128974035), Row(0=797.1699296534447, 1=18.302986052065922), Row(0=1572.317701295464, 1=63.7627977262167), Row(0=2606.3374267787603, 1=210.6967085002568), Row(0=1298.2233930373693, 1=-165.33036660607232), Row(0=841.7335318804625, 1=12.28926001203206), Row(0=1231.6639119205772, 1=20.35711184638343), Row(0=449.52741145367656, 1=61.067199677142135), Row(0=1521.6781380508246, 1=39.60080414131524), Row(0=837.8341546479909, 1=74.314286347138), Row(0=1189.9175024424076, 1=59.21214515884414), Row(0=2110.2905348764025, 1=86.43138174835676), Row(0=702.2804698491383, 1=44.72191392880954), Row(0=3509.5996026323864, 1=518.5584546641159), Row(0=1392.6525889630143, 1=182.73809526327798), Row(0=1026.4105613268619, 1=40.75210087724062), Row(0=956.9442325192666, 1=49.25339496998002), Row(0=692.8625630902087, 1=56.9709281917264), Row(0=524.0999234541096, 1=40.497541253901716), Row(0=2363.416733926779, 1=-163.18355037965958), Row(0=2739.5069852696524, 1=-434.59285060332803), Row(0=914.5368208350906, 1=65.06677947631678), Row(0=894.6295278812008, 1=70.68783620276568), Row(0=496.0302835109306, 1=50.3565983085087), Row(0=1338.5915011121983, 1=0.4619325177128098), Row(0=903.9348428862835, 1=45.54452127657186), Row(0=1093.915191477315, 1=25.07201977020102), Row(0=521.5594245499062, 1=52.14067935871209), Row(0=1065.5512204413462, 1=99.62387513004916), Row(0=805.5805384731016, 1=55.176364660464884), Row(0=877.7304953070646, 1=15.61454129000909), Row(0=1498.3377060088644, 1=48.216828761666214), Row(0=606.7296064961498, 1=73.8819647089032), Row(0=617.0556719597976, 1=56.23419952761408), Row(0=2300.9261411116486, 1=-11.423951572125045), Row(0=443.583278982101, 1=45.346169985174726), Row(0=942.4006597149147, 1=87.33081693679404), Row(0=3379.8310092004344, 1=-354.2765847086964), Row(0=2194.6058792462404, 1=46.470640924446016), Row(0=994.6284202324435, 1=76.76051034491627), Row(0=1692.6187106862233, 1=-56.03925183960946), Row(0=899.6870325569708, 1=81.77393209565398), Row(0=727.3296754945245, 1=84.25933941345941), Row(0=620.7116993800961, 1=57.43858276055386), Row(0=927.6154624640589, 1=80.8599567202352), Row(0=1835.554440041026, 1=120.65932183252524), Row(0=532.9311333189906, 1=54.175420642687754), Row(0=813.2580243824999, 1=102.68208118397982), Row(0=827.8767484464495, 1=60.45572965017569), Row(0=581.5168914877091, 1=32.8225999716891), Row(0=645.1085426786464, 1=57.88658977522808), Row(0=2441.7403618866056, 1=-60.390172803012604), Row(0=660.1768811558942, 1=48.7892473849216), Row(0=2285.825482298418, 1=-137.41795405365744), Row(0=1543.9102305897086, 1=54.10654378680785), Row(0=2295.321070484379, 1=-187.31460583397896), Row(0=1032.7617199754936, 1=23.12646373236184), Row(0=2283.3914586203655, 1=-129.0223205517915), Row(0=1182.4708615646273, 1=51.93141447842884), Row(0=1464.0305743099755, 1=-72.41909566020846), Row(0=1286.458613961073, 1=21.00513035811047), Row(0=2259.6124599093378, 1=-18.264610591271985), Row(0=1543.7471859487102, 1=59.30476047198127), Row(0=1617.5255222456867, 1=24.978573054753063), Row(0=1254.9838293889593, 1=54.29098682680318), Row(0=1718.8747949626143, 1=-68.22916513201349), Row(0=3633.386931747486, 1=-833.232678947261), Row(0=556.3614584201526, 1=48.73438666842148), Row(0=874.2881581020272, 1=84.85566118268974), Row(0=792.8377664473674, 1=81.80740689146306), Row(0=543.4827444906571, 1=56.28089894687311), Row(0=933.0664056545542, 1=127.1311438828419), Row(0=606.130525997766, 1=62.805669123964364), Row(0=2821.736653310741, 1=-173.0017626304066), Row(0=465.61074779223213, 1=42.62000835042866), Row(0=1665.168261746758, 1=53.294105682547944), Row(0=647.4527987299214, 1=89.82615966543902), Row(0=611.5813940330682, 1=68.86816817428718), Row(0=1655.335912412208, 1=181.1015207959882), Row(0=943.420231734105, 1=48.74493640793252), Row(0=895.9437336636095, 1=100.46575382618852), Row(0=2076.378139062076, 1=-67.77902426114699), Row(0=692.2083429280292, 1=49.080873803816075), Row(0=2001.0535343076608, 1=-7.699050190140742), Row(0=1317.6755039682234, 1=68.3247613148899), Row(0=794.3112720675342, 1=86.47180879338713), Row(0=752.1637624368437, 1=81.88263104425882), Row(0=710.5863194350517, 1=56.29315165242248), Row(0=777.7170419019963, 1=95.8372563691716), Row(0=594.6864873834269, 1=78.49195725044466), Row(0=612.6928299272784, 1=68.65148671688355), Row(0=1014.5272846999433, 1=91.63946007095285), Row(0=1068.3678890972344, 1=100.2188413207291), Row(0=783.8040419479756, 1=89.82682842976075), Row(0=681.6441960162531, 1=64.82841693083746), Row(0=745.354688291998, 1=91.17863553800717), Row(0=885.4285674605644, 1=100.87578792377516), Row(0=538.416968616654, 1=80.21039842737817), Row(0=711.2273096106311, 1=40.4850580730195), Row(0=1044.4598524175947, 1=51.28136566901832), Row(0=497.94627646747807, 1=74.08017880426186), Row(0=2391.9891804372883, 1=-199.32681199760697), Row(0=732.1733654438543, 1=75.8091841853295), Row(0=2118.9998492383393, 1=29.209280397796306), Row(0=507.8674494924285, 1=67.45808899751013), Row(0=642.019342548059, 1=56.685586435436804), Row(0=639.3071280786928, 1=76.34439156897297), Row(0=839.340881216297, 1=79.18792821748747), Row(0=382.82856590857324, 1=47.37840000293249), Row(0=906.5205570249526, 1=66.02247067871751), Row(0=865.0158095820158, 1=52.14395500621502), Row(0=645.0354164673626, 1=73.56524724568136), Row(0=1079.9608465350125, 1=62.70607002665695), Row(0=805.8258228989082, 1=62.67549055178349), Row(0=626.6761375448399, 1=73.83050590339064), Row(0=331.54528683930846, 1=52.88123131750384), Row(0=731.1612053617977, 1=87.74279896686652), Row(0=694.0227661738676, 1=88.72666931666822), Row(0=1815.6905167328277, 1=-19.591168960955866), Row(0=392.84922840784526, 1=40.675131083583466), Row(0=706.2560693531024, 1=98.98239178851179), Row(0=514.7127254574694, 1=49.882073277919886), Row(0=2099.3371735814458, 1=73.65409682212591), Row(0=790.3996814186955, 1=75.41381662126959), Row(0=2323.560695290025, 1=-90.779885397284), Row(0=749.8895151062738, 1=47.44759699788337), Row(0=761.1483743525789, 1=77.57075275111356), Row(0=977.5727489552925, 1=76.42578787332741), Row(0=693.7773250921191, 1=71.3199646888382), Row(0=1396.5053097596015, 1=22.460441163946737), Row(0=1284.9102470751216, 1=113.03557210656903), Row(0=1342.1749467832542, 1=34.9969928505552), Row(0=824.8222699527745, 1=63.842670434539826), Row(0=588.7697297633944, 1=74.77720866663437), Row(0=636.2960924510011, 1=44.78491256319744), Row(0=721.5143830319231, 1=74.75853878984213), Row(0=1655.3440001550732, 1=-35.27106574156369), Row(0=776.2560097267774, 1=95.63182601067965), Row(0=2171.4322721768294, 1=-191.12967195937716), Row(0=501.62451058331004, 1=43.71814750558344), Row(0=3393.1465832123254, 1=-274.22047640402116), Row(0=1084.562813121315, 1=33.45877086788505), Row(0=459.0808699255722, 1=37.28717741639427), Row(0=583.9271195065288, 1=62.5692154255815), Row(0=1959.1275203798025, 1=81.61868747252056), Row(0=673.6386603186822, 1=54.689255980605175), Row(0=485.9620018355779, 1=66.99735788390649), Row(0=725.6768764232066, 1=49.155709787809236), Row(0=1115.5531464031624, 1=44.37400078211804), Row(0=629.649155915128, 1=64.43727925948724), Row(0=661.0601594368192, 1=71.33999041789625), Row(0=695.1789099640188, 1=39.90938028763578), Row(0=1197.4087711000168, 1=96.05794811334766), Row(0=3812.704136468534, 1=-252.6469854250986), Row(0=1282.8703009066583, 1=-15.423386434104799), Row(0=601.64473353759, 1=61.46334228723263), Row(0=737.4372992179544, 1=89.63966486868591), Row(0=788.4235915387993, 1=86.55591555459698), Row(0=919.3064621976079, 1=91.09825042123869), Row(0=394.40038012536536, 1=33.07109437037721), Row(0=528.8277763158379, 1=-14.440237349264065), Row(0=771.6225868996587, 1=71.24836021912864), Row(0=832.2717579641667, 1=95.80553383674805), Row(0=769.3468486626253, 1=80.04980948857852), Row(0=1317.980025495338, 1=104.11727579465703), Row(0=869.7533554852755, 1=76.3326375163691), Row(0=2211.0869365547314, 1=20.124614008462917), Row(0=2090.3078818091835, 1=35.85392445081063), Row(0=784.1557856261554, 1=24.728335593828888), Row(0=3471.324826371631, 1=-573.5982287144279), Row(0=2688.0399014977434, 1=-87.89976149266904), Row(0=1447.6715170293326, 1=18.095380036040734), Row(0=1089.0278401877451, 1=112.74103081436006), Row(0=2063.839258537469, 1=234.71281722567028), Row(0=2370.38056756005, 1=-42.82035659330601), Row(0=891.4187046106279, 1=93.9333100124805), Row(0=1168.6622913323858, 1=150.98831630145966), Row(0=491.69136998403593, 1=85.78875997334202), Row(0=889.9571829146842, 1=75.7845974613167), Row(0=881.040327389643, 1=102.92133621945473), Row(0=633.6842046924717, 1=16.804643550656525), Row(0=621.0728063053335, 1=52.05362579574871), Row(0=588.9921437362477, 1=57.38315005680492), Row(0=666.8687883656895, 1=95.2167071099714), Row(0=767.4731429002607, 1=42.639066172590326), Row(0=831.6280128548284, 1=91.04385781353123), Row(0=1013.2724965040416, 1=110.83469022398035), Row(0=708.8369822977438, 1=80.63232294480834), Row(0=962.4818859199634, 1=63.93374836539569), Row(0=603.032654313767, 1=70.26989926465494), Row(0=1762.2286524388778, 1=194.06078492621614), Row(0=516.0474442220332, 1=45.88053062912603), Row(0=402.5713530427127, 1=19.23410751225787), Row(0=1551.6532646040507, 1=-168.44674160650163), Row(0=2522.546443786098, 1=-62.13280695455512), Row(0=724.0655714183098, 1=51.776101545969034), Row(0=919.826525168063, 1=109.44247501560228), Row(0=883.3712232352177, 1=75.05518160184528), Row(0=785.9866967147739, 1=81.97397677453536), Row(0=632.4791083208127, 1=33.016936029337295), Row(0=717.5955473926886, 1=38.10267897106111), Row(0=1650.9102301175258, 1=62.51133116681564), Row(0=745.867375530107, 1=30.86563484826532), Row(0=820.9216443591525, 1=79.22986866175395), Row(0=776.5353803180486, 1=88.483401490772), Row(0=715.5583612882925, 1=82.82818975376617), Row(0=608.9270164239618, 1=40.636491646006185), Row(0=1245.696142116388, 1=109.6003132520412), Row(0=834.6343628610792, 1=55.050300218410456), Row(0=1684.9519172656367, 1=31.019871080537417), Row(0=776.8692624143404, 1=38.017294583200005), Row(0=665.6688628850021, 1=37.59810337170526), Row(0=609.2262450731772, 1=44.14248473713952), Row(0=409.12330720162066, 1=58.35555006745692), Row(0=1118.92179185262, 1=72.61484032570743), Row(0=1186.6801260994498, 1=54.80412249297559), Row(0=686.8448500143761, 1=62.8996472248053), Row(0=458.8631280772528, 1=25.813513407263724), Row(0=1906.4206642265517, 1=-352.70015841174785), Row(0=757.7569466400236, 1=85.18377488786005), Row(0=602.7049014949692, 1=57.235869048690695), Row(0=671.0566980358468, 1=45.31805089273902), Row(0=1051.3442541047011, 1=75.16896007848958), Row(0=633.2154236791514, 1=69.25644782876468), Row(0=920.8875048206331, 1=69.7530160757477), Row(0=487.90835284734624, 1=26.78042776958564), Row(0=492.98324780772487, 1=45.5562268907236), Row(0=561.4806830176487, 1=30.173397650017627), Row(0=616.9073442785667, 1=23.74909410855785), Row(0=572.1744611053405, 1=78.14651611868564), Row(0=777.9658003975035, 1=78.8091287414217), Row(0=1087.401024352269, 1=89.05520021579383), Row(0=701.0024747931944, 1=94.75266040371683), Row(0=1940.1762032377883, 1=159.2534347264127), Row(0=1962.081051688875, 1=-25.205757550525465), Row(0=1033.4921366264339, 1=106.51924149682512), Row(0=1066.1772380426764, 1=-1.4375064257166925), Row(0=815.8881548581393, 1=63.168833244692124), Row(0=975.3140851690434, 1=72.42804956922727), Row(0=963.8639580503633, 1=59.11134342082673), Row(0=922.0490090550543, 1=104.01428738790364), Row(0=613.4332171830263, 1=41.412528373391034), Row(0=1595.985923053159, 1=18.34703439864394), Row(0=925.0306170702406, 1=77.1335758633613), Row(0=504.24595332811873, 1=77.27326553656793), Row(0=1636.6219906976949, 1=62.319287441331824), Row(0=683.9751785079237, 1=74.38324808981184), Row(0=1751.2056432238176, 1=-24.933679987968), Row(0=1076.5404165224245, 1=78.59258979332898), Row(0=1069.0347761342634, 1=66.5799285267541), Row(0=2460.8306027012, 1=-47.65252115637442), Row(0=673.0289189106727, 1=70.42568834762025), Row(0=1858.7280147605927, 1=145.40219659977765), Row(0=692.5503334763555, 1=70.56154302538356), Row(0=994.1769647560388, 1=99.13032501008863), Row(0=810.83896281046, 1=46.50161557812752), Row(0=908.151483084126, 1=57.15092988760979), Row(0=680.550928212695, 1=46.336905324088185), Row(0=836.8423405001124, 1=82.96633965014745), Row(0=823.1210073926705, 1=71.145765970806), Row(0=462.133262376408, 1=48.351545226351305), Row(0=1896.3189906235505, 1=-190.8676319430142), Row(0=4940.228698114805, 1=-481.8956106751395), Row(0=982.7368110849949, 1=110.5167549772585), Row(0=651.4609802470756, 1=61.91621134386483), Row(0=880.8894274256983, 1=50.71800271554075), Row(0=923.5350672184659, 1=31.88817497524879), Row(0=882.9862405625306, 1=50.271605253950355), Row(0=484.3428079281617, 1=25.84655397825667), Row(0=1752.84826740174, 1=-30.650532936018887), Row(0=677.2831577140951, 1=40.303048109375695), Row(0=490.107965360467, 1=25.12898486234563), Row(0=733.8004354022078, 1=48.948637797627136), Row(0=1146.588361788476, 1=43.91376674418905), Row(0=735.1757267316216, 1=66.7167962776913), Row(0=569.7008289518785, 1=55.01219049740739), Row(0=796.5465506665997, 1=73.82765865713247), Row(0=1044.3028029746154, 1=35.61899197995031), Row(0=942.5041563399204, 1=82.39895934059814), Row(0=624.6152343385392, 1=71.26747091485655), Row(0=1249.5977786564217, 1=128.1942010983166), Row(0=719.3112607454179, 1=66.4137719694515), Row(0=1035.9953745224673, 1=20.669088913020648), Row(0=863.701355819563, 1=73.77631187826866), Row(0=899.8003923140119, 1=77.89287680918322), Row(0=1138.6806125238152, 1=122.08437433928249), Row(0=760.018751878367, 1=64.65013160164277), Row(0=1072.655308604073, 1=70.73466301440939), Row(0=2105.3145694254113, 1=-55.74823982981876), Row(0=701.2754721001214, 1=36.08932334134938), Row(0=1390.469090611712, 1=78.47130333219971), Row(0=787.4895173204509, 1=32.45953836789418), Row(0=1571.1123157094573, 1=108.23913836105537), Row(0=1758.3255371689909, 1=-3.3047178400096486), Row(0=720.6802073939398, 1=88.84986814547236), Row(0=850.3142733778205, 1=74.18035818012689), Row(0=1042.8790476234317, 1=109.79447969772599), Row(0=807.5045756390808, 1=41.44443051837567), Row(0=782.3314009884476, 1=52.114172990956575), Row(0=1934.9822722659, 1=-56.27011507122243), Row(0=2210.9545409990046, 1=53.58848864739842), Row(0=1108.2231557267778, 1=74.00730507157422), Row(0=998.5378732273567, 1=40.62947189614041), Row(0=735.0515560009836, 1=79.5967059668012), Row(0=3256.4252244470968, 1=-253.71970633190068), Row(0=397.52739686218706, 1=42.06279838535577), Row(0=433.9396707913006, 1=45.18784248506423), Row(0=691.5956480952065, 1=83.01107126531272), Row(0=556.0303043406813, 1=72.95802539920739), Row(0=1240.4955642921202, 1=135.35201637364426), Row(0=1176.1145608373777, 1=79.70834986365608), Row(0=641.692806939289, 1=84.13268961387766), Row(0=1023.1784065712677, 1=121.66315347749654), Row(0=1021.8529332651271, 1=-21.694836557568898), Row(0=1094.4172615675698, 1=45.93521793331757), Row(0=1205.2373707619695, 1=20.84851729999105), Row(0=625.5944817096989, 1=53.681708786724286), Row(0=1837.5637709688256, 1=-5.428454146348479), Row(0=2056.315494275332, 1=36.44360837929009), Row(0=846.2295619556608, 1=23.630342732041875), Row(0=804.6634997477103, 1=52.21986319996763), Row(0=423.9613866424603, 1=33.536948610530004), Row(0=3232.7818375973975, 1=-45.78771303470514), Row(0=588.5558429025232, 1=76.03117148842661), Row(0=912.9051291961495, 1=69.47704526438156), Row(0=485.40239935944805, 1=34.35687142586414), Row(0=360.40102135388315, 1=33.83170354559895), Row(0=915.7040911019988, 1=44.63488179833579), Row(0=740.4377408174389, 1=66.10309739305406), Row(0=886.9781035869612, 1=112.81270771106415), Row(0=715.1794183002019, 1=55.72829951657883), Row(0=705.1361153888365, 1=37.11389585160188), Row(0=699.1483804803348, 1=33.760405844212414), Row(0=973.0733624643536, 1=32.08653679490119), Row(0=2105.483589749738, 1=99.38446945924908), Row(0=552.608878998216, 1=74.80850963887319), Row(0=2244.0012576787267, 1=14.464769773511799), Row(0=968.6296687774302, 1=102.54421819879764), Row(0=642.8883828024965, 1=62.583359573916404), Row(0=313.58133907969517, 1=15.249375140145721), Row(0=288.4850785554629, 1=23.045987837718204), Row(0=615.5230687265008, 1=74.42492368921886), Row(0=1050.3330190481827, 1=78.08508541898912), Row(0=1071.1162506765363, 1=76.01343480326517), Row(0=834.7103833674682, 1=85.88017246460092), Row(0=909.9449278060273, 1=88.21214298153814), Row(0=936.8487032452284, 1=54.59986639004701), Row(0=510.152081610975, 1=54.02352375918786), Row(0=485.30510652428046, 1=67.21388445252009), Row(0=470.77082817591617, 1=34.591706971389485), Row(0=631.5201668525266, 1=15.044982784429127), Row(0=553.6845200127542, 1=66.66631946037667), Row(0=584.127792920445, 1=68.0671630533747), Row(0=788.3522005848288, 1=81.04128225427098), Row(0=402.20101233861766, 1=56.02156203752258), Row(0=792.8805781745328, 1=85.83078662882073), Row(0=486.34774517270915, 1=68.09248445418051), Row(0=472.0039887275346, 1=64.85968392924742), Row(0=435.651275462615, 1=42.27644154074705), Row(0=988.7202636268772, 1=120.88280344525708), Row(0=629.7344051174014, 1=67.69299200301569), Row(0=934.278488005226, 1=90.62910549821486), Row(0=591.1137001527514, 1=72.21625714898018), Row(0=1173.1071753878848, 1=68.371592770569), Row(0=2277.831318613352, 1=41.019096900780085), Row(0=2522.499105444125, 1=17.637193372403534), Row(0=2153.721278971429, 1=21.42587624684083), Row(0=1424.5328095393254, 1=55.021712401051296), Row(0=2231.6557928201937, 1=-19.994398538676375), Row(0=331.69302638402786, 1=5.297339661865698)]\n"
          ]
        }
      ]
    },
    {
      "cell_type": "code",
      "source": [],
      "metadata": {
        "id": "8EHFF5cyuCKG"
      },
      "execution_count": null,
      "outputs": []
    },
    {
      "cell_type": "code",
      "source": [
        "# Set columns nullable so that rows with invalid data (value == 0) don't create error in kMeans calculation\n",
        "# https://stackoverflow.com/questions/55162989/pyspark-kmeans-clustering-features-column-illegalargumentexception\n",
        "reduced_df = set_df_columns_nullable(spark, reduced_df, reduced_df.columns)\n",
        "\n",
        "# Append reduced features list to reduced df\n",
        "#  KMeans requires features array as column\n",
        "reduced_df = reduced_df.withColumn('features', array(reduced_df.columns))"
      ],
      "metadata": {
        "id": "-WktuFKdrlPy"
      },
      "execution_count": 78,
      "outputs": []
    },
    {
      "cell_type": "code",
      "metadata": {
        "id": "U_snSSj5k2y5"
      },
      "source": [
        "##### DISCARDED CODE #####\n",
        "# Converting the SVD DenseMatrix to a DataFrame bc .fit() needs DF https://spark.apache.org/docs/latest/api/python/reference/api/pyspark.ml.clustering.KMeans.html#pyspark.ml.clustering.KMeans.fit\n",
        "# svdFeaturesDenseMatrix = svdFeatures.V\n",
        "# https://stackoverflow.com/a/54106020\n",
        "# denseMatrixToDataFrame = spark.createDataFrame(\n",
        "#     svdFeaturesDenseMatrix.toArray().tolist()\n",
        "# )\n",
        "##########################\n",
        "\n",
        "\n",
        "# Code referenced from: https://spark.apache.org/docs/latest/ml-clustering.html#output-columns\n",
        "\n",
        "# Trains a k-means model.\n",
        "svd_reduced_kmeans = KMeans().setK(2).setSeed(1)\n",
        "svd_reduced_model = svd_reduced_kmeans.fit(reduced_df)\n",
        "\n",
        "# Make predictions\n",
        "reduced_predictions = svd_reduced_model.transform(reduced_df)\n",
        "\n",
        "# Evaluate clustering by computing Silhouette score\n",
        "evaluator = ClusteringEvaluator()\n",
        "\n",
        "reduced_silhouette = evaluator.evaluate(reduced_predictions)"
      ],
      "execution_count": 89,
      "outputs": []
    },
    {
      "cell_type": "code",
      "source": [
        "print(\"Reduced data Silhouette with squared euclidean distance = \", reduced_silhouette)\n",
        "print(\"Original data Silhouette with squared euclidean distance = \", silhouette)"
      ],
      "metadata": {
        "colab": {
          "base_uri": "https://localhost:8080/"
        },
        "id": "QwvjWjfwz9qs",
        "outputId": "08ab9f0d-fd87-46cf-9fbf-248274f457e6"
      },
      "execution_count": 90,
      "outputs": [
        {
          "output_type": "stream",
          "name": "stdout",
          "text": [
            "Reduced data Silhouette with squared euclidean distance =  0.8351779819006669\n",
            "Original data Silhouette with squared euclidean distance =  0.8342904262826145\n"
          ]
        }
      ]
    },
    {
      "cell_type": "code",
      "source": [
        "reduced_prediction_series = (reduced_predictions.select('prediction').rdd.map(lambda x: x[0]).collect())\n",
        "print(\"Reduced data comparison: \", np.count_nonzero(labels == reduced_prediction_series))\n",
        "print(\"Original data comparison: \", np.count_nonzero(labels == prediction_series))"
      ],
      "metadata": {
        "colab": {
          "base_uri": "https://localhost:8080/"
        },
        "id": "DkevInvorQwD",
        "outputId": "e9b3d643-69b7-43bb-e46e-264774b1b38f"
      },
      "execution_count": 94,
      "outputs": [
        {
          "output_type": "stream",
          "name": "stdout",
          "text": [
            "Reduced data comparison:  83\n",
            "Original data comparison:  83\n"
          ]
        }
      ]
    },
    {
      "cell_type": "markdown",
      "metadata": {
        "id": "Q5j7crxVMNJG"
      },
      "source": [
        "#### **Submission Intruction:**\n",
        "\n",
        "#### Click File -> Download -> Download .ipynb, and upload the downloaded file to Blackboard."
      ]
    }
  ]
}